{
  "cells": [
    {
      "cell_type": "markdown",
      "metadata": {
        "id": "d7c5c680"
      },
      "source": [
        "## Semantic Search using [Sentence BERT/Sentence Transformers](https://www.sbert.net/index.html)\n"
      ]
    },
    {
      "cell_type": "code",
      "execution_count": 92,
      "metadata": {
        "execution": {
          "iopub.execute_input": "2022-08-29T16:06:45.786841Z",
          "iopub.status.busy": "2022-08-29T16:06:45.785821Z",
          "iopub.status.idle": "2022-08-29T16:06:55.132585Z",
          "shell.execute_reply": "2022-08-29T16:06:55.131424Z",
          "shell.execute_reply.started": "2022-08-29T16:06:45.786798Z"
        },
        "id": "x6YAneNMI8d5",
        "outputId": "1e7c4679-ca1e-499e-fc9a-67075a49198c",
        "trusted": true,
        "colab": {
          "base_uri": "https://localhost:8080/"
        }
      },
      "outputs": [
        {
          "output_type": "stream",
          "name": "stdout",
          "text": [
            "Looking in indexes: https://pypi.org/simple, https://us-python.pkg.dev/colab-wheels/public/simple/\n",
            "Requirement already satisfied: sentence-transformers in /usr/local/lib/python3.9/dist-packages (2.2.2)\n",
            "Requirement already satisfied: tqdm in /usr/local/lib/python3.9/dist-packages (from sentence-transformers) (4.65.0)\n",
            "Requirement already satisfied: transformers<5.0.0,>=4.6.0 in /usr/local/lib/python3.9/dist-packages (from sentence-transformers) (4.28.1)\n",
            "Requirement already satisfied: scipy in /usr/local/lib/python3.9/dist-packages (from sentence-transformers) (1.10.1)\n",
            "Requirement already satisfied: sentencepiece in /usr/local/lib/python3.9/dist-packages (from sentence-transformers) (0.1.98)\n",
            "Requirement already satisfied: scikit-learn in /usr/local/lib/python3.9/dist-packages (from sentence-transformers) (1.2.2)\n",
            "Requirement already satisfied: torchvision in /usr/local/lib/python3.9/dist-packages (from sentence-transformers) (0.15.1+cu118)\n",
            "Requirement already satisfied: numpy in /usr/local/lib/python3.9/dist-packages (from sentence-transformers) (1.22.4)\n",
            "Requirement already satisfied: nltk in /usr/local/lib/python3.9/dist-packages (from sentence-transformers) (3.8.1)\n",
            "Requirement already satisfied: torch>=1.6.0 in /usr/local/lib/python3.9/dist-packages (from sentence-transformers) (2.0.0+cu118)\n",
            "Requirement already satisfied: huggingface-hub>=0.4.0 in /usr/local/lib/python3.9/dist-packages (from sentence-transformers) (0.13.4)\n",
            "Requirement already satisfied: packaging>=20.9 in /usr/local/lib/python3.9/dist-packages (from huggingface-hub>=0.4.0->sentence-transformers) (23.1)\n",
            "Requirement already satisfied: filelock in /usr/local/lib/python3.9/dist-packages (from huggingface-hub>=0.4.0->sentence-transformers) (3.11.0)\n",
            "Requirement already satisfied: requests in /usr/local/lib/python3.9/dist-packages (from huggingface-hub>=0.4.0->sentence-transformers) (2.27.1)\n",
            "Requirement already satisfied: pyyaml>=5.1 in /usr/local/lib/python3.9/dist-packages (from huggingface-hub>=0.4.0->sentence-transformers) (6.0)\n",
            "Requirement already satisfied: typing-extensions>=3.7.4.3 in /usr/local/lib/python3.9/dist-packages (from huggingface-hub>=0.4.0->sentence-transformers) (4.5.0)\n",
            "Requirement already satisfied: triton==2.0.0 in /usr/local/lib/python3.9/dist-packages (from torch>=1.6.0->sentence-transformers) (2.0.0)\n",
            "Requirement already satisfied: sympy in /usr/local/lib/python3.9/dist-packages (from torch>=1.6.0->sentence-transformers) (1.11.1)\n",
            "Requirement already satisfied: networkx in /usr/local/lib/python3.9/dist-packages (from torch>=1.6.0->sentence-transformers) (3.1)\n",
            "Requirement already satisfied: jinja2 in /usr/local/lib/python3.9/dist-packages (from torch>=1.6.0->sentence-transformers) (3.1.2)\n",
            "Requirement already satisfied: lit in /usr/local/lib/python3.9/dist-packages (from triton==2.0.0->torch>=1.6.0->sentence-transformers) (16.0.1)\n",
            "Requirement already satisfied: cmake in /usr/local/lib/python3.9/dist-packages (from triton==2.0.0->torch>=1.6.0->sentence-transformers) (3.25.2)\n",
            "Requirement already satisfied: tokenizers!=0.11.3,<0.14,>=0.11.1 in /usr/local/lib/python3.9/dist-packages (from transformers<5.0.0,>=4.6.0->sentence-transformers) (0.13.3)\n",
            "Requirement already satisfied: regex!=2019.12.17 in /usr/local/lib/python3.9/dist-packages (from transformers<5.0.0,>=4.6.0->sentence-transformers) (2022.10.31)\n",
            "Requirement already satisfied: joblib in /usr/local/lib/python3.9/dist-packages (from nltk->sentence-transformers) (1.2.0)\n",
            "Requirement already satisfied: click in /usr/local/lib/python3.9/dist-packages (from nltk->sentence-transformers) (8.1.3)\n",
            "Requirement already satisfied: threadpoolctl>=2.0.0 in /usr/local/lib/python3.9/dist-packages (from scikit-learn->sentence-transformers) (3.1.0)\n",
            "Requirement already satisfied: pillow!=8.3.*,>=5.3.0 in /usr/local/lib/python3.9/dist-packages (from torchvision->sentence-transformers) (8.4.0)\n",
            "Requirement already satisfied: MarkupSafe>=2.0 in /usr/local/lib/python3.9/dist-packages (from jinja2->torch>=1.6.0->sentence-transformers) (2.1.2)\n",
            "Requirement already satisfied: certifi>=2017.4.17 in /usr/local/lib/python3.9/dist-packages (from requests->huggingface-hub>=0.4.0->sentence-transformers) (2022.12.7)\n",
            "Requirement already satisfied: charset-normalizer~=2.0.0 in /usr/local/lib/python3.9/dist-packages (from requests->huggingface-hub>=0.4.0->sentence-transformers) (2.0.12)\n",
            "Requirement already satisfied: idna<4,>=2.5 in /usr/local/lib/python3.9/dist-packages (from requests->huggingface-hub>=0.4.0->sentence-transformers) (3.4)\n",
            "Requirement already satisfied: urllib3<1.27,>=1.21.1 in /usr/local/lib/python3.9/dist-packages (from requests->huggingface-hub>=0.4.0->sentence-transformers) (1.26.15)\n",
            "Requirement already satisfied: mpmath>=0.19 in /usr/local/lib/python3.9/dist-packages (from sympy->torch>=1.6.0->sentence-transformers) (1.3.0)\n"
          ]
        }
      ],
      "source": [
        "!pip install -U sentence-transformers"
      ]
    },
    {
      "cell_type": "code",
      "execution_count": 93,
      "metadata": {
        "execution": {
          "iopub.execute_input": "2022-08-29T16:06:55.136122Z",
          "iopub.status.busy": "2022-08-29T16:06:55.134704Z",
          "iopub.status.idle": "2022-08-29T16:06:59.459761Z",
          "shell.execute_reply": "2022-08-29T16:06:59.458580Z",
          "shell.execute_reply.started": "2022-08-29T16:06:55.136079Z"
        },
        "id": "df6af634",
        "trusted": true
      },
      "outputs": [],
      "source": [
        "import os\n",
        "import pandas as pd\n",
        "import numpy as np\n",
        "import torch\n",
        "#Libraries for sentence transformer\n",
        "from sentence_transformers import SentenceTransformer, util, InputExample, models\n",
        "from tqdm.notebook import tqdm_notebook # for progress bar\n",
        "from torch.utils.data import DataLoader\n",
        "from sentence_transformers import losses\n",
        "from sentence_transformers.evaluation import EmbeddingSimilarityEvaluator\n",
        "#Libraries for visualization\n",
        "import seaborn as sns\n",
        "import matplotlib.pyplot as plt"
      ]
    },
    {
      "cell_type": "markdown",
      "metadata": {
        "id": "KJaf96Q6sH9w"
      },
      "source": [
        "### 1.Load Dataset Files"
      ]
    },
    {
      "cell_type": "code",
      "execution_count": 94,
      "metadata": {
        "execution": {
          "iopub.execute_input": "2022-08-29T16:07:04.547978Z",
          "iopub.status.busy": "2022-08-29T16:07:04.546382Z",
          "iopub.status.idle": "2022-08-29T16:07:04.568379Z",
          "shell.execute_reply": "2022-08-29T16:07:04.567212Z",
          "shell.execute_reply.started": "2022-08-29T16:07:04.547930Z"
        },
        "id": "9f7c8f2d",
        "trusted": true
      },
      "outputs": [],
      "source": [
        "def load_data(path):\n",
        "    import os\n",
        "    \n",
        "    #_____________ Read data from CISI.ALL file and store in dictinary ________________\n",
        "    \n",
        "    with open(os.path.join(path, 'CISI.ALL')) as f:\n",
        "        lines = \"\"\n",
        "        for l in f.readlines():\n",
        "            lines += \"\\n\" + l.strip() if l.startswith(\".\") else \" \" + l.strip()\n",
        "        lines = lines.lstrip(\"\\n\").split(\"\\n\")\n",
        " \n",
        "    doc_set = {}\n",
        "    doc_id = \"\"\n",
        "    doc_text = \"\"\n",
        "\n",
        "    for l in lines:\n",
        "        if l.startswith(\".I\"):\n",
        "            doc_id = l.split(\" \")[1].strip() \n",
        "        elif l.startswith(\".X\"):\n",
        "            doc_set[doc_id] = doc_text.lstrip(\" \")\n",
        "            doc_id = \"\"\n",
        "            doc_text = \"\"\n",
        "        else:\n",
        "            doc_text += l.strip()[3:] + \" \" \n",
        "\n",
        "    print(f\"Number of documents = {len(doc_set)}\")\n",
        "    print(doc_set[\"1\"]) \n",
        "    \n",
        "    \n",
        "    #_____________ Read data from CISI.QRY file and store in dictinary ________________\n",
        "    \n",
        "    with open(os.path.join(path, 'CISI.QRY')) as f:\n",
        "        lines = \"\"\n",
        "        for l in f.readlines():\n",
        "            lines += \"\\n\" + l.strip() if l.startswith(\".\") else \" \" + l.strip()\n",
        "        lines = lines.lstrip(\"\\n\").split(\"\\n\")\n",
        "          \n",
        "    qry_set = {}\n",
        "    qry_id = \"\"\n",
        "    for l in lines:\n",
        "        if l.startswith(\".I\"):\n",
        "            qry_id = l.split(\" \")[1].strip() \n",
        "        elif l.startswith(\".W\"):\n",
        "            qry_set[qry_id] = l.strip()[3:]\n",
        "            qry_id = \"\"\n",
        "\n",
        "    print(f\"\\n\\nNumber of queries = {len(qry_set)}\")    \n",
        "    print(qry_set[\"1\"]) \n",
        "    \n",
        "    \n",
        "    #_____________ Read data from CISI.REL file and store in dictinary ________________\n",
        "    \n",
        "    rel_set = {}\n",
        "    with open(os.path.join(path, 'CISI.REL')) as f:\n",
        "        for l in f.readlines():\n",
        "            qry_id = l.lstrip(\" \").strip(\"\\n\").split(\"\\t\")[0].split(\" \")[0] \n",
        "            doc_id = l.lstrip(\" \").strip(\"\\n\").split(\"\\t\")[0].split(\" \")[-1]\n",
        "\n",
        "            if qry_id in rel_set:\n",
        "                rel_set[qry_id].append(doc_id)\n",
        "            else:\n",
        "                rel_set[qry_id] = []\n",
        "                rel_set[qry_id].append(doc_id)\n",
        "\n",
        "    print(f\"\\n\\nNumber of mappings = {len(rel_set)}\")\n",
        "    print(rel_set[\"1\"]) \n",
        "    \n",
        "    doc_set = {int(id):doc for (id,doc) in doc_set.items()}\n",
        "    qry_set = {int(id):qry for (id,qry) in qry_set.items()}\n",
        "    rel_set = {int(qid):list(map(int, did_lst)) for (qid,did_lst) in rel_set.items()}\n",
        "    \n",
        "    return doc_set, qry_set, rel_set"
      ]
    },
    {
      "cell_type": "code",
      "execution_count": 95,
      "metadata": {
        "execution": {
          "iopub.execute_input": "2022-08-29T16:07:05.767666Z",
          "iopub.status.busy": "2022-08-29T16:07:05.767162Z",
          "iopub.status.idle": "2022-08-29T16:07:05.888813Z",
          "shell.execute_reply": "2022-08-29T16:07:05.887685Z",
          "shell.execute_reply.started": "2022-08-29T16:07:05.767634Z"
        },
        "id": "c89df0c7",
        "outputId": "d3a9fe98-be45-4d83-c18f-af151dfc9a6f",
        "trusted": true,
        "colab": {
          "base_uri": "https://localhost:8080/"
        }
      },
      "outputs": [
        {
          "output_type": "stream",
          "name": "stdout",
          "text": [
            "Number of documents = 1460\n",
            "18 Editions of the Dewey Decimal Classifications Comaromi, J.P. The present study is a history of the DEWEY Decimal Classification.  The first edition of the DDC was published in 1876, the eighteenth edition in 1971, and future editions will continue to appear as needed.  In spite of the DDC's long and healthy life, however, its full story has never been told.  There have been biographies of Dewey that briefly describe his system, but this is the first attempt to provide a detailed history of the work that more than any other has spurred the growth of librarianship in this country and abroad. \n",
            "\n",
            "\n",
            "Number of queries = 112\n",
            "What problems and concerns are there in making up descriptive titles? What difficulties are involved in automatically retrieving articles from approximate titles? What is the usual relevance of the content of articles to their titles?\n",
            "\n",
            "\n",
            "Number of mappings = 76\n",
            "['28', '35', '38', '42', '43', '52', '65', '76', '86', '150', '189', '192', '193', '195', '215', '269', '291', '320', '429', '465', '466', '482', '483', '510', '524', '541', '576', '582', '589', '603', '650', '680', '711', '722', '726', '783', '813', '820', '868', '869', '894', '1162', '1164', '1195', '1196', '1281']\n"
          ]
        }
      ],
      "source": [
        "doc_set, qry_set, rel_set = load_data('')"
      ]
    },
    {
      "cell_type": "code",
      "source": [
        "import fileinput\n",
        "nltk.download('stopwords')\n",
        "nltk.download('punkt')\n",
        "import nltk\n",
        "import os\n",
        "from nltk.tokenize import word_tokenize\n",
        "from nltk.corpus import stopwords\n",
        "import string\n",
        "from nltk import word_tokenize,sent_tokenize\n",
        "import nltk\n",
        "\n",
        "def lower_str(para):\n",
        "    return para.lower()\n",
        "\n",
        "def get_tokenize(para):\n",
        "    return word_tokenize(para)\n",
        "\n",
        "def get_stop_word(word_token):\n",
        "    stop_words = set(stopwords.words('english'))\n",
        "    without_stop_word=[]\n",
        "    for w in word_token:\n",
        "        if w not in stop_words:\n",
        "            without_stop_word.append(w)\n",
        "    return without_stop_word\n",
        "\n",
        "def remove_punctuation(test_str):\n",
        "    test_str = test_str.translate(str.maketrans('', '', string.punctuation))\n",
        "    return test_str\n",
        "def remove_blank_spces(tokens):\n",
        "     new_token=[]\n",
        "     for  i in tokens:\n",
        "         if i==\" \":\n",
        "             continue\n",
        "         else:\n",
        "             new_token.append(i)\n",
        "     return new_token\n",
        "\n",
        "\n",
        "\n",
        "def edit_file(content):\n",
        "\n",
        "\n",
        "        content= content\n",
        "\n",
        "        # print(\"intital content\",content)\n",
        "        content= lower_str(content)\n",
        "        content=remove_punctuation(content)\n",
        "        tokens=get_tokenize(content)\n",
        "        final_tokens=get_stop_word(tokens)\n",
        "        # print(\"final_content\",final_tokens)\n",
        "\n",
        "        final_items=\"\"\n",
        "        for item in final_tokens:\n",
        "            final_items=final_items + item + \" \"\n",
        "        return final_items\n",
        "\n"
      ],
      "metadata": {
        "colab": {
          "base_uri": "https://localhost:8080/"
        },
        "id": "VZrnzSjFz1Y7",
        "outputId": "d5f8b25d-138f-4c3f-857e-d6cc2cab3a08"
      },
      "execution_count": 96,
      "outputs": [
        {
          "output_type": "stream",
          "name": "stderr",
          "text": [
            "[nltk_data] Downloading package stopwords to /root/nltk_data...\n",
            "[nltk_data]   Package stopwords is already up-to-date!\n",
            "[nltk_data] Downloading package punkt to /root/nltk_data...\n",
            "[nltk_data]   Package punkt is already up-to-date!\n"
          ]
        }
      ]
    },
    {
      "cell_type": "code",
      "source": [
        "for i in doc_set.keys():\n",
        "  doc_set[i]=edit_file(doc_set[i])\n"
      ],
      "metadata": {
        "id": "DzUvizZHzNcU"
      },
      "execution_count": 97,
      "outputs": []
    },
    {
      "cell_type": "code",
      "source": [
        "print(qry_set)"
      ],
      "metadata": {
        "colab": {
          "base_uri": "https://localhost:8080/"
        },
        "id": "OVt3FEfM1RVR",
        "outputId": "270ed6bf-e6ab-4ba3-8818-cfdf422c4844"
      },
      "execution_count": 98,
      "outputs": [
        {
          "output_type": "stream",
          "name": "stdout",
          "text": [
            "{1: 'What problems and concerns are there in making up descriptive titles? What difficulties are involved in automatically retrieving articles from approximate titles? What is the usual relevance of the content of articles to their titles?', 2: 'How can actually pertinent data, as opposed to references or entire articles themselves, be retrieved automatically in response to information requests?', 3: 'What is information science?  Give definitions where possible.', 4: 'Image recognition and any other methods of automatically transforming printed text into computer-ready form.', 5: 'What special training will ordinary researchers and businessmen need for proper information management and unobstructed use of information retrieval systems? What problems are they likely to encounter?', 6: 'What possibilities are there for verbal communication between computers and humans, that is, communication via the spoken word?', 7: 'Describe presently working and planned systems for publishing and printing original papers by computer, and then saving the byproduct, articles coded in data-processing form, for further use in retrieval.', 8: 'Describe information retrieval and indexing in other languages. What bearing does it have on the science in general?', 9: 'What possibilities are there for automatic grammatical and contextual analysis of articles for inclusion in an information retrieval system?', 10: 'The use of abstract mathematics in information retrieval, e.g. group theory.', 11: 'What is the need for information consolidation, evaluation, and retrieval in scientific research?', 12: 'Give methods for high speed publication, printing, and distribution of scientific journals.', 13: 'What criteria have been developed for the objective evaluation of information retrieval and dissemination systems?', 14: 'What future is there for automatic medical diagnosis?', 15: 'How much do information retrieval and dissemination systems, as well as automated libraries, cost? Are they worth it to the researcher and to industry?', 16: 'What systems incorporate multiprogramming or remote stations in information retrieval?  What will be the extent of their use in the future?', 17: 'Means of obtaining large volume, high speed, customer usable information retrieval output.', 18: 'What methods are there for encoding, automatically matching, and automatically drawing structures extended in two dimensions, like the structural formulas for chemical compounds?', 19: 'Techniques of machine matching and machine searching systems. Coding and matching methods.', 20: 'Testing automated information systems.', 21: 'The need to provide personnel for the information field.', 22: 'Automated information in the medical field.', 23: 'Amount of use of books in libraries. Relation to need for automated information systems .', 24: 'Educational and training requirements for personnel in the information field. Possibilities for this training.  Needs for programs providing this training.', 25: 'International systems for exchange and dissemination of information.', 26: 'Cost and determination of cost associated with systems of automated information.', 27: 'Computerized information retrieval systems.  Computerized indexing systems.', 28: 'Computerized information systems in fields related to chemistry.', 29: 'Specific advantages of computerized index systems.', 30: 'Information dissemination by journals and periodicals.', 31: 'Information systems in the physical sciences.', 32: 'Attempts at computerized and mechanized systems for general libraries. Problems and methods of automated general author and title indexing systems.', 33: 'Retrieval systems which provide for the automated transmission of information to the user from a distance.', 34: 'Methods of coding used in computerized index systems.', 35: 'Government supported agencies and projects dealing with information dissemination.', 36: 'What are some of the theories and practices in computer translating of texts from one national language to another?  How can machine translating compete with traditional methods of translating in comprehending nuances of meaning in languages of different structures?', 37: 'What lists of words useful for indexing or classifying material are available?  Wanted are lists of terms that are descriptive vocabularies of particular fields or schedules of words that are related to each other in meaningful schemes.  Wanted are lists that have been tested, at least to some extent, and found useful for organizing material and for retrieving it.', 38: 'How can access words in an information retrieval system be kept up to date? Word meanings and usage often change and lists must be dynamic to be current. What definitions of the problem and progress toward solutions have been made in providing necessary flexibility in systems of subject headings, index words, or other symbols used for getting at stored data?', 39: 'The progress of information retrieval presents problems of maladjustment and dislocation of personnel.  Training and retraining of people to use the new equipment is important at all levels.  Librarians, assistants, technicians, students, researchers, and even executives will need education to learn the purpose, values, and uses of information systems and hardware. What programs have been developed to change the attitudes and skills of traditional workers and help them to learn the newer techniques?', 40: 'What is the status of machine translation?  What progress has been made in the use of computers to transfer from one language to another with some degree of automation?  What problems and stumbling blocks have been found and are they considered to be insurmountable limitations or only challenging to the field of documentation on an international scale?', 41: 'Is alphabetical ordering of material considered to be a useful tool in information retrieval?  What studies have been done to compare the effectiveness of alphabetical order with other organization schemes? Is there a generally accepted form of arranging material in alphabetical order, and is there an easy way of achieving this form without going to a great amount of effort?', 42: 'The average student or researcher has difficulty in comprehending the vocabulary of information retrieval.  It appears important that this new field be understood before it is to be fully accepted.  What basic articles would provide an understanding of the various important aspects of the information storage and retrieval?', 43: 'The difficulties encountered in information retrieval systems are often less related to the equipment used than to the failure to plan adequately for document analysis, indexing, and machine coding.  The position of the programmer is to take a problem and write it in a way in which the equipment will understand.  What articles have been written describing research in maximizing the effectiveness of programming?', 44: 'There are presently fifty to one hundred technical journals being published.  On the average, two new journals appear every day.  In the many journals published, one to two million articles appear every year.  What attempts have been made to cope with this amount of scientific and technical publication in terms of analysis, control, storage, and retrieval?', 45: 'I am looking for information about the impact of automation on libraries and its significance for libraries in general.  This includes the increasing importance of automation in view of the proliferation of information today, and how automation can help libraries cope with this problem.  How will automation affect libraries and how should they react to the idea of automation?', 46: 'I am seeking information on the use of data processing in libraries and the mechanization of routine library processes and procedures.  I would like descriptions of both general and specific applications of automation in such areas as circulation, cataloging, acquisitions, serial records, and other record-keeping.  Examples should be based on the operation of a conventional public or university library, or practices in a special library which could also be applied in a public or university library.  Give descriptions of equipment and operations, both present and projected.', 47: 'Is there any established means at present for an international exchange of material about information retrieval?  If there is, does it take the form of an international agency or center which regularly distributes information retrieval methods and research results?  If there is not, in what ways has this material crossed national boundaries?  What seem to have been some of the problems blocking a better international exchange, and is any effort being made to solve some of those problems?', 48: 'Information retrieval is still such a new and experimental field that a line distinguishing research and practice is often difficult - even impossible - to draw.  Are there, however, actual centers of research on information retrieval?  If so, in which countries are they located?  Who supports them - government, business, universities, or libraries?  Can information retrieval as a specialized research discipline be said to be emerging, or is it still an amalgam of skills from other fields, such as mathematics, engineering, and library science?  In other words, tell me about information retrieval research.', 49: 'Most resources have been spent on applying information retrieval techniques to the physical and medical sciences.  But, has information retrieval been used at all in the natural sciences, social sciences, and humanities?  If so, what have been some of the problems which have been encountered with these subject areas and how have they been solved, if at all?  Have the characteristics of these subject areas necessitated the development of new information retrieval techniques? What are the prospcts for future machine control in these areas?', 50: 'Is there any use for traditional classification schemes - DDC, UDC, LC, etc. - in information retrieval systems?  If there is, which scheme appears most suited to machine use and where has it been applied? If there is not, why are these classification schemes irrelevant? Has research shown that a subject classification of knowledge is completely unnecessary in machine systems? Or, have new schemes been devised which appear to be more suited to machine use?', 51: 'Coordinate indexing utilizes descriptors for controlled language.  Of what use are descriptors in the construction of an index?  How can descriptors be used for searching in an information retrieval system?', 52: 'What are the characteristics of MEDLARS (Medical Literature Analysis and Retrieval System) project which has been undertaken by the National Library of Medicine?  How does it index current medical journals and of what relation is this indexing system to Index Medicus? What are the major components of the MEDLARS project and its major operating details?', 53: 'How can the computer be used in medical science for diagnostic and clinical record keeping purposes?  Have any programs of automation been tried in hospitals?  If so, what have been the results? What problems have been encountered in the use of automation in medicine?  For what purposes can an automated system of clinical records be used?  What are other possible uses of the computer in medicine?', 54: 'What is the effect on librarians of automation?  Note the new types of technology to be used in the library which will have an effect on the status, position, and function of the librarians.  What changes are being contemplated or have been initiated to introduce automation into the education of librarians?', 55: 'What are the aims and objectives of the medical literature analysis and retrieval system (MEDLARS)?  How does MEDLARS operate?  What are the possible applications of MEDLARS to future information retrieval systems?', 56: \"The standard method of finding information in today's libraries is through the use of the alphabetically arranged card catalog or the classified catalog based on a classification system such as the DC or LC.  Can these systems be modified for use with automated information retrieval?\", 57: 'In catalogs which are either arranged alphabetically or arranged by classification number, the LC entry, printed in readable language, is ultimately important because the individual looking for information has a definite author, title, or subject phrase in his language (probably English in our case) in mind.  Will LC entries and subject headings be used in the same manner in automated systems?', 58: 'Bibliographic control before and after MARC is reviewed.  The capability of keying into online systems brought an interdependence among libraries, the service centers that mediate between them, and the large utilities that process and distribute data.  From this has developed the basic network structure among libraries in the United States.  The independent development of major networks has brought problems in standardization and coordination. The authors point out that while technology has led toward centralization of automated library services, new developments are now pushing toward decentralization.  Coordination is a requirement to avoid fragmentation in this new environment.', 59: 'The retrieval performance of book indexes can be measured in terms of their ability to direct a user selectively to text material whose identity but not location is known.  The method requires human searchers to base their searching strategies on actual passages from the book rather than on test queries, natural or contrived.  It circumvents the need for relevance judgement, but still yields performance indicators that correspond approximately to the recall and precision ratios of large document retrieval system evaluation.  A preliminary application of the method to the subject indexing of two major encyclopedias showed one encyclopedia apparently superior in both the finding and discrimination abilities of retrieval performance.  The method is presently best suited for comparative testing since its ability to yield absolute or reproducible measures is as yet not established.', 60: \"A linkage similarity measure which takes into account both the bibliographic coupling of documents and their cocitations (both cited and citing papers) produced improved document retrieval over a measure based only on bibliographic coupling.  The test collection consisted of 1712 papers whose relevance to specific queries had been judged by users.  To evaluate the effect of using cocitation data, we calculated for each query two measures of similarity between each relevant paper and every other paper retrieved. Papers were then sorted by the similarity measures, producing two ordered lists.  We then compared the resulting predictions of relevance, partial relevance, and non-relevance to the user's evaluations of the same papers. Overall, the change from the bibliographic coupling measure to the linkage similarity measure, representing the introduction of cocitation data, resulted in better retrieval performance.\", 61: 'The way that individuals construct and modify search queries on a large interactive document retrieval system is subject to systematic biases similar to those that have been demonstrated in experiments on judgements under uncertainty.  These biases are shared by both naive and sophisticated subjects and cause the inquirer searching for documents on a large interactive system to construct and modify queries inefficiently.  A searching algorithm is suggested that helps the inquirer to avoid the effect of these biases.', 62: 'This article concerns the problem of how to permit a patron to represent the relative importance of various index terms in a Boolean request while retaining the desirable properties of a Boolean system. The character of classical Boolean systems is reviewed and related to the notion of fuzzy sets.  The fuzzy set concept then forms the basis of the concept of a fuzzy request in which weights are assigned to index terms. Ther properties of such a system are discussed, and it is shown that such systems retain the manipulability of traditional Boolean requests.', 63: 'A commercially available online search was used as a standard for comparative searching and evaluation of an in-house information system based on automatic indexing.  System features were identified and evaluated on the basis of their usefulness in various kinds of searching, their ease in implementation, and how they are influenced by differences in user type or specific applications.  Some common features of the commercial system, such as online instruction, user-specified print formats, dictionary display, and truncation, are seen to be unnecessary or impractical for the in-house system.  In designing the in-house system, therefore, detald consideration must be given to the applications, operating environment, and real user needs.  While a commercial system can serve as a useful standard for comparative evaluation, one must be careful not to attempt to duplicate it blindly in-house.', 64: 'It is argued that in information science we have to distinguish physical, objective, or document space from perspective, subjective, or information space.  These two spaces are like maps and landscapes: each is a systematic distortion of the other.  However, transformation can be easily made once the two spaces are distinguished.  If the transformations are omitted we only get unhelpful physical solutions to information problems.', 65: 'The use of document clusters has been suggested as an efficient file organization for a document retrieval system.  It is possible that by using this information about the relationships between documents that the effectiveness of the system (i.e., its ability to distinguish relevant from non-relevant documents) may also be improved.  In this paper a probabilistic model of cluster searching  based on query classification is described.  This model is tested with retrieval experiments which indicate that it can be more effective than heuristic cluster searches and cluster searches based on other models.  It can also be more effective than a full search in which every document is compared to the query.  The efficiency aspects of the implementation of the model are discussed.', 66: 'Current online library network technology is described, including the physical and functional aspects of networks.  Three types of networks are distinguished:  search service (e.g., SDC, Lockheed), customized service that provide bibliographic files (e.g., OCLC, Inc., RLIN), and service center (e.g., NELINET, INCOLSA).  It is predicted that as technology evolves more services will be provided outside the library directly to the user through his home or office.', 67: 'An experimental computer program has been developed to classify documents according to the 80 sections and five major section groupings of Chemical Abstracts (CA).  The program uses pattern recognition techniques supplemented by heuristics.  During the \"training\" phase, words from pre-classified documents are selected, and the probability of occurrence of each word in each section of CA is computed and stored in a reference dictionary.  The \"classification\" phase matches each word of a document title against the dictionary and assigns a section number to the document using weights derived from the probabilities in the dictionary.  Heuristic techniques are used to normalize word variants such as plurals, past tenses, and gerunds in both the training phase and the classification phase.  The dictionary lookup technique is supplemented by the analysis of chemical nomenclature terms into their component word roots to influence the section to which the documents are assigned.  Program performance and human consistency have been evaluated by comparing the program results against the published sections of CA and by conducting an experiment with people experienced in the assignment of documents to CA sections.  The program assigned approximately 78% of the documents to the correct major section groupings of CA and 67% of the correct sections or cross-references at a rate of 100 documents per second.', 68: 'Some of the automatic classification procedures used in information retrieval derive clusters of documents from an intermediate similarity matrix, the computation of which involves comparing each of the documents in the collection with all of the others.  It has recently been suggested that many of these comparisons, specifically those between documents having no terms in common, may be avoided by means of the uyse of an inverted file to the document collection.  This communication shows that the approach will effect reductions in the number of interdocument comparisons only if the documents are each indexed by a limited number of indexing terms; if exhaustive indexing is used, many document pairs will be compared several times over and the computation will be greater than when conventional approaches are used to generate the similarity matrix.', 69: 'The Use of a minicomputer in various phases of creating the thesaurus for the National Information Center for Special Education Materials (NICSEM) database is described.  The minicomputer is used to collect, edit, and correct candidate thesaurus terms.  The use of the minicomputer eases the process of grouping terms into files of similar concepts and facilitates the generation of products useful in vocabulary review and in term structuring.  Syndetic relations, indicated by assigning coded identification numbers, are altered easily in the design phase to reflect restructuring requirements.  Because thesaurus terms are already in machine- readable form, it is simple to prepare print programs to provide permuted, alphabetic, hierarchical, and chart formatted term displays.  Overall, the use of the minicomputer facilitates initial thesaurus entry development by reducing clerical effort, editorial staff decisions, and overall processing times.', 70: 'Decision Support Systems (DSS) represent a concept of the role of computers within the decision making process.  The term has become a rallying cry for researchers, practitioners, and managers concerned that Management Science and Management Information Systems fields have become unnecessarily narrow in focus.  As with many rallying cries, the term is not well defined.  For some writers, DSS simply mean interactive systems for use by managers.  To others, the key issue is support, rather than system.  They focus on understanding and improving the decision process; a DSS is then designed using any available and suitable technology. Some researchers view DSS as a subfield of MIS, while others regard it as an extension of Management Science techniques.  The former define Decision Support as providing managers with access to data and the latter as giving them access to analytic models.  The key argument of this paper is that the term DSS is relevant to situations where a \"final\" system can be developed only through an adaptive process of learning and evolution.  The design strategy must then focus on getting finished; this is very different from Management Science and Data Processing approaches.  The research issued for DSS center around adaption and evolution; they include managerial learning representation of tasks and user behavior, design architecture and strategies for getting started.', 71: 'A new method is described to extract significant phrases in the title and the abstreact of scientific or technical documents.  The method is based upon a text structure analysis and uses a relatively small dictionary. The dictionary has been constructed based on the knowledge about concepts in the field of science or technology and some lexical knowledge.  For significant phrases and their component items may be used in different meanings among the fields.  A text analysius approach has been applied to select significant phrases as substantial and semantic information carriers of the contents of the abstract.  The results of the experiment for five sets of documents have shown that the significant phrases are effectively extracted in all cases, and the number of them for every document and the processing time is fairly satisfactory.  The information representation of the document, partly using the method, is discussed with relation to the construction of the document information retrieval system.', 72: 'Passage retrieval (already operational for lawyers) has advantages in output form opver references retrieval and is economically feasible. Previous experiments in passage retrieval for scientists have demonstrated recall and false retrieval rates as good or better than those of present reference retrieval services.  The present experiment involved a greater variety of forms of retrieval question.  In addition, search words were selected independently by two different people for each retrieval question. The search words selected, in combination with the computer procedures used for passage retrieval, produced average recall ratios of 72 and 67%, respectively, for the two selectors.  The false retrieval rates were (except for one predictably difficult question) respectively 13 and 10 falsely retrieved sentences per answer-paper retrieved.', 73: 'In this paper we describe a practical method of partial-match retrieval in very large data files.  A binary code word, called a descriptor, is associated with each record of the file.  These record descriptors are then used to form a derived descriptor for a block of several records, which will serve as an index for the block as a whole; hence, the name \"indexed descriptor files.\"  First the structure of these files is described and a simple, efficient retrieval algorithm is presented.  Then its expected behavior, in terms of storage accesses, is analyzed in detail.  Two different file creation procedures are sketched, and a number of ways in which the file organization can be \"tuned\" to a particular application is suggested.', 74: 'Recenty technological advances and the success of OCLC, Inc. has led to the emergence of three additional nonprofit library networks:  the Research Libraries Information Network (RLIN) of the Research Libraries Group, Inc., the University of Toronto Library Automation System (UTLAS), and the Washington Library Network (WLN).  This paper examines the economic and technological factors affecting the evolution of these networks and also explores the role of those state and regional (multistate) networks that broker OCLC services.  The competitive and cooperative nature of network relationships is a major theme of the discussion.', 75: 'A new type of natural language parser is presented.  The idea behind this parser is to map input sentences into the deepest form of the representation of their meaning and inferences, as is appropriate.  The parser is not distinct from an entire understanding system.  It uses an integrated conception of inferences, scripts, plans and other knowledge to aid in the parse.  Furthermore, it does not attempt to parse everything it sees.  Rather, it determines what is most interesting and concentrates on that, ignoring the rest.', 76: 'This paper discusses the origins of library networks and traces their development in the United States in the late 1960s through the present. The concept of resource sharing, with particular attention to the inter- library loan and programs for the cooperative acquisition and storage of materials, is examined in relationship to library networks.  In particular, attention is given to the question of how these two major components of library cooperation, which have tended to be separate, might become more closely integrated.', 77: 'This paper presents a method of normalizations of English titles and their retrieval.  The title expressed by a noun phrase or a noun clause is converted to a function-expression by parsing.  For the retrieval with a reasonable recall rate as well as a high precision rate, the function- expression is transformed to a predicate-governor form, and then normalized to a standard form.  Therefrom, various items are extracted and recorded in a hierarchical tree-like inverted file.  In order to keep the recall rate in a reasonable value, several retrieval stages are implemented based on the key-term and case-label matching.  The retrieval is controlled by the preciseness of the specification of case-labels for each key-term.', 78: \"A generalization of the notion of ATN grammar, called a cascaded ATN (CATN), is prescribed.  CATN's permit a decomposition of complex language understanding behavior into a sequence of cooperating ATN's with separate domain of responsibility, where each stage (called an ATN transducer) takes its input from the output of the previous stage.  The paper includes an extensive discjussion of the principles of factoring-conceptual factoring reduces the number of places that a given fact needs to be represented in a grammar, and hypothesis factoring reduces the number of distinct hypotheses that have to be considered during parsing.\", 79: 'Algorithms are given to process partially specified queries in a compressed database system.  The proposed methods handle effectively queries that use either whole words or word fragments as language elements. The methods are compared and critically evaluated in terms of the design and retrieval costs.  The analyses show that the method which exploits the interdependence of fragments as well as the relevance of fragments to records in the file has maximum design cost and least retrieval cost.', 80: \"From the detailed analysis of eight previously published mathematical models, a general formulation of Bradford's distribution can be deduced as follows:  y = a log(x + c) + b, where y is the ratio of the cumulative frequency of articles to the total number of articles and x is the ratio of the rank of journals to the total number of journals.  The parameters a, b, and c are the slope, the intercept, and the shift in a straight line to log rank, respectively.  Each of the eight models is a special case of the general formulation and is one of five types of formulation.  In order to estimate three unknown parameters, a statistical method using root-weighted square error is proposed.  A comparative experiment using 11 databases suggests that the fifth type of formulation with three unknown parameters is the best fit to the observed data.  A further experiment shows that the deletion of the droop data leads to a more accurate value of parameters and less error.\", 81: 'The lexical problems in large information systems are created by the necessity of handling a great number of names and their interrelations. Such lexical problems are not covered completely by the concept data dictionaries, which are mostly concerned with database scheme design rather than the execution of operations.  In this paper we introduce our view of a lexical subsystem as a separate component in an information system architecture, to deal with linguistic and control functions concerning the lexical problems in local and network environments.  The lexical suybsystem is a special efficiently organized program package, which plays the role of a \"linguistic filter\" in a broad sense for lexically incorrect queries, promotes integration of databases and information retrieval systems, and facilitates the creation of local information systems.  We hope that lexical subsystems can become productive for any large, especially distributed, information system.', 82: 'The relational model has received increasing attention during the past decade.  Its advantages include simplicity, consistency, and a sound theoretical basis.  In this article, the naturalness of viewing information retrieval relationally is demonstrated.  The relational model is presented, and the relational organization of a bibliographical database is shown. The notion of normalization is introduced and first, second, third, and fourth normal forms are demonstrated.  Relational languages are discussed, including the relational calculus, relational algebra, and SEQUEL. Numerous examples pertinent to information retrieval are presented in these relational languages.  Advantages of the relational approach to information retrieval are noted.', 83: 'This paper describes an architectural approach that provides information exchange across a broad spectrum of user applications and office automation offerings.  Some of the architectures described herein are currently implemented in existing IBM products.  These and other architectures will provide the basis for document interchange capability between products such as the IBM 5520 Administrative System, the IBM System/370 Distributed Office Support System (DISOSS), and the IBM Displaywriter System. Specifically described is a document distribution architecture and its associated data streams and others.  A general overview of the architectures as opposed to a detailed technical description is provided.  The architectures described are protocols for interchange between application processes; they do not address the specific user interface.  The document distribution architectures utilize SNA for data transmission and communications control facilities.', 84: \"A technique is described for automatic reformulation of boolean queries.  Based on patron relevance judgements of an initial retrieval, prevalence measures are derived for terms appearing in the retrieved set of documents that reflect a term's distribution among the relevant and non-relevant documents.  These measures are then used to guide the construction of a boolean query for a subsequent retrieval.  To illustrate the technique, a series of tests is described of its application to a small data base in an experimental environment.  Results compare favourably with feedback as employed in a SMART-type system.  MOre extensive testing is suggested to validate the technique.\", 85: 'This paper is intended to propose a new methodological approach to the conception and development of natural language understanding systems. This new contribution is supported by the design, implementation, and experimentation of DONAU:  a general purpose domain oriented natural language understanding system developed and presently running at the Milan Polytechnic Artificial Intelligence Project.  The system is based on a two level modular architecture intended to overcome the lack of flexibility and generality often pointed out in many existing systems, and to facilitate the exchange of results and actual experiences between different projects. The horizontal level allows an independent and parallel development of the single segments of the system (syntactic analyser, information extractor, legality controller).  The vertical level ensures the possibility of changing (enlarging or redefining) the definition of the semantic domain on which each particular version of the system is oriented and specialized in a simple, incremental, and user-oriented way.  In the paper the general architecture of the system and the mode of operation of each segment are illustrated in detail.  Linguistic models, knowledge representation, and parsing algorithms are described and illustrated by means of selected examples.  Performance evaluations of the system in the application version on data base inquiry are reported and discussed.  Promising directions for future research are presented in the conclusions.', 86: 'Approximate matching of strings is reviewed with the aim of surveying techniques suitable for finding an item in a database when there may be a spelling mistake or other error in the keyword.  The methods found are classified as either equivalence or similarity problems. Equivalence problems are seen to be readily solved using canonical forms. For similarity problems difference measures are surveyed, with a full description of the well-established dynamic programming method relating this to the approach using probabilities and likelihoods.  Searches for approximate matches in large sets using a difference function are seen to be an open problem still, though several promising ideas have been suggested.  Approximate matching (error correction) during parsing is briefly reviewed.', 87: 'A prototype system is created that integrates a microfiche catalog into an online computer system for bibliographic control.  Costs and operational data are collected and analyzed.  The system permits the more economical microfiche storage of catalog records than would be feasible for comparable online magnetic disk storage.  Experimental tests demonstrate the feasibility of the online microfiche catalog system for use in library technical services and retrieval of bibliographic data.  The primary result of the project is the creation of a completely operational facility, including all equipment, software, procedures, and data bases necessary to demonstrate the system.  A second set of results is derived from the experimental use of the system and the evaluation of costs and times for various operations.  The cost effectiveness of the online microfiche catalog is demonstrated.', 88: 'The question is asked whether it is feasible to use subsets of natural languages as query languages for data bases in actual applications using the question answering system \"USER SPECIALTY LANGUAGES\" (USL). Methods of evaluating a natural language based information system will be discussed.  The results (error and language structure evaluation) suggest how to form the general architecture of application systems which use a subset of German as query language.', 89: \"In 1978 Collier presented some hypothetical data on economic aspects of the use of online services as compared with subscriptions to printed services in libraries.  Collier's view of the economics of online searching seems misleadingly pessimistic because:  1.  It looks only at costs but not at effectiveness in comparing the two modes of access and searching.  An analysis combining cost and effectiveness aspects (i.e., a cost-effectiveness analysis) would give a completely different picture.  2.  The way the cost data are presented is grossly unfair to the online mode of access and use.  This work contains corrected information regarding online and printed services in libraries.\", 90: \"Many information scientists are concerned with the operation of document retrieval systems serving scientists in various fields.  The scientists served by these systems are often members of what have been called invisible colleges, groups of scientists in frequent communication with one another and involved with highly specialized subject matters.  Often such groups are considered to share an intellectual perspective regarding this subject matter, which is sometimes referred to as a paradigm.  The purpose of this paper is to show how it is possible to identify paradigms, using the techniques of citation analysis.  I will operationalize the notion of paradigm as a 'consensual structure of concepts in a field.' Suppose we have obtained a set of papers pertaining to some topic.  Already knowing something about the field, we read each text and mark passages in which certain specific concepts are used or discussed.  For example, we might find that a concept designated 'A' appears in some sub-set of the papers.  Suppose further that we identify those papers in which concepts 'A' and 'B' are used together in the same papers in a certain specified manner. Clearly not all concepts will combine in a natural way, and not all authors combining concepts 'A' and 'B' will do so in the same way, though some predominant mode may emerge.  For a set of n concepts their structure is given by the totality of admissible combinations of concepts taken from two to n at a time.  The frequency with which a given combination occurs in the sample of papers on the topic is a measure of the degree of consensus regarding the particular concept combination within the corpus.  For concepts taken two at a time, the structure can be displayed as a graph with concepts as nodes and the relations between them represented as lines (arcs) connecting the nodes.  This definition of concept structure is similar to the semantic network of artificial intelligence except that in our approach a measure of consensus weights each arc of the graph.\", 91: 'One mode of online retrieval in Scisearch or Social Scisearch involves entering pairs of authors\\' names believed to be jointly cited by subsequent writers and retrieving papers in which cocitations occur.  Six pairs were formed with the names of four authors prominent in the social indicators movement (Bauer, Duncan, Land, and Sheldon).  Documents by the four were not specified.  It was thought that the pair Duncan and Land would retrieve papers in which indicator-type data would be integrated with path-analytic causal modeling.  All other pairs seemed likely to retrieve a \"general social indicators\" literature.  The 298 retrieved papers confirmed expectattions.  It was found that 121 papers generally cited social indicators (SI) documents by the input authors and frequently had SI language in their titles.  Other signs of content also identified them as papers of the SI movement.  The 177 papers retrieved on Duncan and Land generally cited causal modeling documents by the input pair and were path-analytic in nature.  As expected, they were relatively \"harder\" than the first group of papers, although the two groups are akin and are formally linked through citations in certain papers.  An additional result is that papers citing at least three of the input authors tend to be overviews of the SI movement.', 92: 'The number of databases, records contained in databases and the online use of databases has increased dramatically over the past several years, bringing the 1979 totals for bibliographic, bioliographic-related, and natural language databases to 528.  These 528 databases contain 148 million records.  Some 4 million online searches were conducted via the major U.S. and Canadian systems in 1979.', 93: 'A method of iterative searching, using the results of one iteration search to formulate the next iteration search, was applied to a full-text database consisting of some 2400 documents and 1,3000,000 text-words of Hebrew and Aramaic.  The iterative method consists of clustering the documents returned in an iteration, using weighting by proximity and by frequency simultaneously. The process produces searchonyms, which are terms synonymous to keywords in the context of a single query.  Augumenting or replacing keywords by searchonyms via manual or automatic feedback leads to the formulation of the next iteration search.  The results of the experiment are consistent with those of an earlier small-scale experiment on an English database, and indicate that in contrast to global clustering where the size of matrices limits applications to small databases and improvements are doubtful, local metrical methods appear to be well suited to arbitrarily large databases, improving precision and recall simultaneously.  Further experiments using more test-queries run on even larger databases should be made to collect further evidence as to the performance of these methods.', 94: 'REFLES is a microcomputer-based system for data retrieval in library environments.  The problem of information retrieval is discussed from a theoretical point of view, followed by an analysis of the reference process and data thereby gathered, leading to a description of REFLES in terms of its hardware and software.  REFLES, a prototype system at present, currently functions in a test environment.  Examples of data contained in the system and of its use are presented.  Future considerations and speculations on other versions of the system conclude the paper.', 95: 'A major deficiency of traditional Boolean systems is their inability to represent the varying degrees to which a document may be written on a subject. In this article we isolate a number of criteria that should be met by any Boolean system generalized to have a weighting capability.  It is proven that only one weighting rule satisfies these conditions--that associated with fuzzy- set theory--and that this weighting scheme satisfies most of the other properties associated with Boolean algebra as well.  Probabilistic weighting is then introduced as an alternative approach and the two systems compared. In the limit of zero/one weights, all systems considered converge to traditional Boolean retrieval.', 96: 'Several papers have appeared that have analyzed recent developments in the problem of processing, in a document retrieval system, queries expressed as Boolean expressions.  The purpose of this paper is to continue that analysis. We shall show that the concept of threshold values resolves the problems inherent with relevance weights.  Moreover, we shall explore possible evaluation mechanisms for retrieval of documents, based on fuzzy-set-theoretic considerations.', 97: 'There has been a good deal of work on information retrieval systems that have continuous weights assigned to the index terms that describe the records in the database, and/or to the query terms that describe the user queries. Recent articles have analyzed retrieval systems with continuous weights of either type and/or with a Boolean structure for the queries.  They have also suggested criteria which such systems ought to satisfy and record evaluation mechanisms which partially satisfy these criteria.  We offer a more careful analysis, based on a generalization of the discrete weights.  We also look at the weights from an entirely different approach involving thresholds, and we generate an improved evaluation mechanism which seems to fulfill a larger subset of the desired criteria than previous mechanisms.  This new mechanism allows the user to attach a \"threshold\" to the query term.', 98: 'Online retrieval systems may be difficult to use, especially by end users, because of heterogeneity and complexity.  Investigations have concerned the concept of a translating computer interface as a means to simplify access to, and operation of, heterogeneous bibliographic retrieval systems and databases.  The interface allows users to make requests in a common language. These requests are translated by the interface into the appropriate commands for whatever system is being interrogated.  System responses may also be transformed by the interface into a common form before being given to the users.  Thus, the network of different systems is made to look like a single \"virtual\" system to the user.  The interface also provides instruction and other search aids for the user.  The philosophy, design, and implementation of an experimental interface named CONIT are described.', 99: 'The evaluation of the concept of a translating compuyter interface for simplifying operation of multiple, heterogenous online bibliographic retrieval systems has been undertaken.  An experimental retrieval system, named CONIT, was built and tested under controlled conditions with inexperienced end users.  A detailed analysis of the experimental usages showed that users were able to master interface operation sufficiently well to find relevant document references.  Success was attributed, in part, to a simple command language, adequate online instruction, and a simplified natural-language, keyword/stem approach to searching.  It is concluded that operational interfaces of the type studied can provide for increased usability of existing system in a cost effective manner, especially for searchers. Furthermore, more advanced interfaces based on improved instruction and automated search strategy techniques could further enhance retrieval effectiveness for a wide class of users.', 100: 'This paper notes the benefits accruing from interaction between computerized retrieval systems and micrographic retrieval systems.  It reviews current state of automated micrographic retrieval technology.  The conclusion is that with a combination of advances in communications technology, and sophisticated indexing input from libraries and information scientists, the new generation of automated micrographs devices may constitute the on-line document retrieval systems of the future.', 101: 'Conventional information retrieval processes are largely based on data movement, pointer manipulations and integer arithmetic; more refined retrieval algorithms may in addition benefit from substantial computational power.  In the present study a number of parallel processing methods are described that serve to enhance retrieval services.  In conventional retrieval environments parallel list processing and parallel search facilities are of greatest interest.  In more advanced systems, the use of array processors also proves beneficial.  Various information retrieval processes are examined and evidence is given to demonstrate the usefulness of parallel processing and fast computational facilities in information retrieval.', 102: 'The frequency characteristics of terms in the documents of a collection have been used as indicators of term importance for content analysis and indexing purposes.  In particular, very rare or very frequent terms are normally believed to be less effective than medium-frequency terms.  Recently automatic indexing theories have been devised that use not only the term frequency characteristics but also the relevance properties of the terms. The major term-weighting theories are first briefly reviewed.  The term precision and term utility weights that are based on the occurrence characteristics of the terms in the relevant, as opposed to the nonrelevant, documents of a collection are then introduced.  Methods are suggested for estimating the relevance properties of the terms based on their overall occurrence characteristics in the collection.  Finally, experimental evaluation results are shown comparing the weighting systems using the term relevance properties with the more conventional frequency-based methodologies.', 103: 'This paper describes the design and implementation of an \"electronic filing machine,\" a machine which is capable of storing large numbers of \"unstructured\" documents in such a way a particular document may be easily and quickly retrieved.  A functional distributed architecture permits the implementation of the system in a mixture of hardware and software.', 104: 'This paper tackles the problem of how one might select further search terms, using relevance feedback, given the search terms in the query.  These search terms are extracted from a maximum spanning tree connecting all the terms in the index term vocabulary.  A number of different spanning trees are generated from a variety of association measures.  The retrieval effectiveness for the different spanning trees is shown to be approximately the same.  Effectiveness is measured in terms of precision and recall, and the retrieval tests are done on three different test collections.', 105: 'Indexing quality determines whether the information content of an indexed document is accurately represented.  Indexing effectiveness measures whether an indexed document is correctly retrieved every time it is relevant to a query.  Measurement of these criteria is cumbersome and costly; data base producers therefore prefer inter-indexer consistency as a measure of indexing quality or effectiveness.  The present article assesses the validity of this substitution in various environments.', 106: \"A set of experiments was conducted to determine the suitability of the Colon Classification as a foundation for the automated analysis, representation and retrieval of primary information from the full text of documents.  Primary information is that information embodied in the text of a document, as opposed to secondary information which is generally in such forms as:  an abstract, a table of contents, or an index. Full text databases were created in two subject areas and queries solicited from specialists in each area.  An automated full text indexing system, along with four automated passage retrieval systems, was created to test the various features of the Colon Classification.  Two Boolean-based systems and one simple word occurrence system were created in order to compare the retrieval results against types of systems which are in more common use.  The systems' retrieval performances were measured using recall and precision and the mean expected search length reduction factors. Overall, it was found that the Colon Classification-based systems did not perform significantly better than the other systems.\", 107: 'A study was carried out of the relationship between the vocabulary of user queries and the vocabulary of documents relevant to the queries, and the value of adding to the document description record in a retrieval system keywords from previous queries for which the document had proved useful. Two test databases incorporating user query keywords were implemented at the School of Library and Information Science, University of Western Ontario.  Clustering of the documents via title and user keywords, a statistical analysis of title-user keyword co-occurrences, and retrieval tests were used to examine the effect of the added keywords.  Results showed the impracticality of the procedure in an operational setting, but indicated the value of analyses with sample data in the development and maintenance of keyword dictionaries and thesauri.', 108: \"A technique of online instruction and assistance to bibliographic data base searchers called Individualized Instruction for Data Access (IIDA) is being developed by Drexel University.  IIDA assists searchers by providing feedback based on real-time analysis while searches are being performed. Extensive help facilities which draw on this analysis are available to users.  Much of the project's experimental work, as described elsewhere, is concerned with the process of searching and the behavior of searchers. This paper will largely address itself to the project's computer system, which is being developed by subcontract with the Franklin Institute's Science Information Services.\", 109: 'It is shown that the mapping of a particular area of science, in this case information science, can be done using authors as units of analysis and the cocitations of pairs of authors as the variable that indicates their \"distances\" from each other.  The analysis assumes that the more two authors are cited together, the closer the relationship between them.  The raw data are cocitation counts drawn online from Social Scisearch (Social Sciences Citation Index) over the period 1972-1979.  GThe resulting map shows (1) identifiable author groups (akin to \"schools\") of information science, (2) locations of these groups with respect to each other, (3) the degree of centrality and peripherality of authors within groups, (4) proximities of authors within group and across group boundaries (\"border authors\" who seem to connect various areas of research), and (5) positions of authors with respect to the map\\'s axes, which were arbitrarily set spanning the most divergent groups in order to aid interpretation.  Cocitation analysis of authors offers a new technique that might contribute to the understanding of intellectual structure in the sciences and possibly in other areas to the extent that those areas rely on serial publications.  The technique establishes authors, as well as documents, as an effective unit in analyzing subject specialties.', 110: 'The \"Office of the Future,\" \"Office Technology,\" \"Word Processing,\" \"Electronic Mail,\" \"Electronic Communications,\" \"Convergence,\" \"Information Management.\"  These are all terms included in the current list of buzz words used to describe current activities in the office technology area.  The high level of investment in factories and plants and the ever-increasing fight to improve productivity by automating the dull, routine jobs are usually quoted and compared with the extremely low investment in improving and automating the equally tedious routine jobs in the office environment; the investment in the factory is quoted as being ten times greater per employee than in the office.  This, however, is changing rapidly and investment on a large scale is already taking place in manhy areas as present-day inflation bites hard, forcing many companies and organizations to take a much closer look at their office operations.', 111: 'An automated document clustering procedure is described which does not require the use of an inter-document similarity matrix and which is independent of the order in which the documents are processed.  The procedure makes use of an initial set of clusters which is derived from certain of the terms in the indexing vocabulary used to characterise the documents in the file.  The retrieval effectiveness obtained using the clustered file is compared with that obtained from serial searching and from use of the single-linkage clustering method.', 112: 'A fast algorithm is described for comparing the lists of terms representing documents in automatic classification experiments.  The speed of the procedure arises from the fact that all of the non-zero-valued coefficicents for a given document are identified together, using an inverted file to the terms in the document collection.  The complexity and running time of the algorithm are compared with previously described procedures.'}\n"
          ]
        }
      ]
    },
    {
      "cell_type": "code",
      "source": [
        "for i in qry_set.keys():\n",
        "  qry_set[i]=edit_file(qry_set[i])"
      ],
      "metadata": {
        "id": "0EopdEQO1cJZ"
      },
      "execution_count": 99,
      "outputs": []
    },
    {
      "cell_type": "code",
      "source": [
        "print(qry_set)"
      ],
      "metadata": {
        "colab": {
          "base_uri": "https://localhost:8080/"
        },
        "id": "UFrtPjdY1j1J",
        "outputId": "20695b46-abad-403e-abd7-e838c0eaebde"
      },
      "execution_count": 100,
      "outputs": [
        {
          "output_type": "stream",
          "name": "stdout",
          "text": [
            "{1: 'problems concerns making descriptive titles difficulties involved automatically retrieving articles approximate titles usual relevance content articles titles ', 2: 'actually pertinent data opposed references entire articles retrieved automatically response information requests ', 3: 'information science give definitions possible ', 4: 'image recognition methods automatically transforming printed text computerready form ', 5: 'special training ordinary researchers businessmen need proper information management unobstructed use information retrieval systems problems likely encounter ', 6: 'possibilities verbal communication computers humans communication via spoken word ', 7: 'describe presently working planned systems publishing printing original papers computer saving byproduct articles coded dataprocessing form use retrieval ', 8: 'describe information retrieval indexing languages bearing science general ', 9: 'possibilities automatic grammatical contextual analysis articles inclusion information retrieval system ', 10: 'use abstract mathematics information retrieval eg group theory ', 11: 'need information consolidation evaluation retrieval scientific research ', 12: 'give methods high speed publication printing distribution scientific journals ', 13: 'criteria developed objective evaluation information retrieval dissemination systems ', 14: 'future automatic medical diagnosis ', 15: 'much information retrieval dissemination systems well automated libraries cost worth researcher industry ', 16: 'systems incorporate multiprogramming remote stations information retrieval extent use future ', 17: 'means obtaining large volume high speed customer usable information retrieval output ', 18: 'methods encoding automatically matching automatically drawing structures extended two dimensions like structural formulas chemical compounds ', 19: 'techniques machine matching machine searching systems coding matching methods ', 20: 'testing automated information systems ', 21: 'need provide personnel information field ', 22: 'automated information medical field ', 23: 'amount use books libraries relation need automated information systems ', 24: 'educational training requirements personnel information field possibilities training needs programs providing training ', 25: 'international systems exchange dissemination information ', 26: 'cost determination cost associated systems automated information ', 27: 'computerized information retrieval systems computerized indexing systems ', 28: 'computerized information systems fields related chemistry ', 29: 'specific advantages computerized index systems ', 30: 'information dissemination journals periodicals ', 31: 'information systems physical sciences ', 32: 'attempts computerized mechanized systems general libraries problems methods automated general author title indexing systems ', 33: 'retrieval systems provide automated transmission information user distance ', 34: 'methods coding used computerized index systems ', 35: 'government supported agencies projects dealing information dissemination ', 36: 'theories practices computer translating texts one national language another machine translating compete traditional methods translating comprehending nuances meaning languages different structures ', 37: 'lists words useful indexing classifying material available wanted lists terms descriptive vocabularies particular fields schedules words related meaningful schemes wanted lists tested least extent found useful organizing material retrieving ', 38: 'access words information retrieval system kept date word meanings usage often change lists must dynamic current definitions problem progress toward solutions made providing necessary flexibility systems subject headings index words symbols used getting stored data ', 39: 'progress information retrieval presents problems maladjustment dislocation personnel training retraining people use new equipment important levels librarians assistants technicians students researchers even executives need education learn purpose values uses information systems hardware programs developed change attitudes skills traditional workers help learn newer techniques ', 40: 'status machine translation progress made use computers transfer one language another degree automation problems stumbling blocks found considered insurmountable limitations challenging field documentation international scale ', 41: 'alphabetical ordering material considered useful tool information retrieval studies done compare effectiveness alphabetical order organization schemes generally accepted form arranging material alphabetical order easy way achieving form without going great amount effort ', 42: 'average student researcher difficulty comprehending vocabulary information retrieval appears important new field understood fully accepted basic articles would provide understanding various important aspects information storage retrieval ', 43: 'difficulties encountered information retrieval systems often less related equipment used failure plan adequately document analysis indexing machine coding position programmer take problem write way equipment understand articles written describing research maximizing effectiveness programming ', 44: 'presently fifty one hundred technical journals published average two new journals appear every day many journals published one two million articles appear every year attempts made cope amount scientific technical publication terms analysis control storage retrieval ', 45: 'looking information impact automation libraries significance libraries general includes increasing importance automation view proliferation information today automation help libraries cope problem automation affect libraries react idea automation ', 46: 'seeking information use data processing libraries mechanization routine library processes procedures would like descriptions general specific applications automation areas circulation cataloging acquisitions serial records recordkeeping examples based operation conventional public university library practices special library could also applied public university library give descriptions equipment operations present projected ', 47: 'established means present international exchange material information retrieval take form international agency center regularly distributes information retrieval methods research results ways material crossed national boundaries seem problems blocking better international exchange effort made solve problems ', 48: 'information retrieval still new experimental field line distinguishing research practice often difficult even impossible draw however actual centers research information retrieval countries located supports government business universities libraries information retrieval specialized research discipline said emerging still amalgam skills fields mathematics engineering library science words tell information retrieval research ', 49: 'resources spent applying information retrieval techniques physical medical sciences information retrieval used natural sciences social sciences humanities problems encountered subject areas solved characteristics subject areas necessitated development new information retrieval techniques prospcts future machine control areas ', 50: 'use traditional classification schemes ddc udc lc etc information retrieval systems scheme appears suited machine use applied classification schemes irrelevant research shown subject classification knowledge completely unnecessary machine systems new schemes devised appear suited machine use ', 51: 'coordinate indexing utilizes descriptors controlled language use descriptors construction index descriptors used searching information retrieval system ', 52: 'characteristics medlars medical literature analysis retrieval system project undertaken national library medicine index current medical journals relation indexing system index medicus major components medlars project major operating details ', 53: 'computer used medical science diagnostic clinical record keeping purposes programs automation tried hospitals results problems encountered use automation medicine purposes automated system clinical records used possible uses computer medicine ', 54: 'effect librarians automation note new types technology used library effect status position function librarians changes contemplated initiated introduce automation education librarians ', 55: 'aims objectives medical literature analysis retrieval system medlars medlars operate possible applications medlars future information retrieval systems ', 56: 'standard method finding information todays libraries use alphabetically arranged card catalog classified catalog based classification system dc lc systems modified use automated information retrieval ', 57: 'catalogs either arranged alphabetically arranged classification number lc entry printed readable language ultimately important individual looking information definite author title subject phrase language probably english case mind lc entries subject headings used manner automated systems ', 58: 'bibliographic control marc reviewed capability keying online systems brought interdependence among libraries service centers mediate large utilities process distribute data developed basic network structure among libraries united states independent development major networks brought problems standardization coordination authors point technology led toward centralization automated library services new developments pushing toward decentralization coordination requirement avoid fragmentation new environment ', 59: 'retrieval performance book indexes measured terms ability direct user selectively text material whose identity location known method requires human searchers base searching strategies actual passages book rather test queries natural contrived circumvents need relevance judgement still yields performance indicators correspond approximately recall precision ratios large document retrieval system evaluation preliminary application method subject indexing two major encyclopedias showed one encyclopedia apparently superior finding discrimination abilities retrieval performance method presently best suited comparative testing since ability yield absolute reproducible measures yet established ', 60: 'linkage similarity measure takes account bibliographic coupling documents cocitations cited citing papers produced improved document retrieval measure based bibliographic coupling test collection consisted 1712 papers whose relevance specific queries judged users evaluate effect using cocitation data calculated query two measures similarity relevant paper every paper retrieved papers sorted similarity measures producing two ordered lists compared resulting predictions relevance partial relevance nonrelevance users evaluations papers overall change bibliographic coupling measure linkage similarity measure representing introduction cocitation data resulted better retrieval performance ', 61: 'way individuals construct modify search queries large interactive document retrieval system subject systematic biases similar demonstrated experiments judgements uncertainty biases shared naive sophisticated subjects cause inquirer searching documents large interactive system construct modify queries inefficiently searching algorithm suggested helps inquirer avoid effect biases ', 62: 'article concerns problem permit patron represent relative importance various index terms boolean request retaining desirable properties boolean system character classical boolean systems reviewed related notion fuzzy sets fuzzy set concept forms basis concept fuzzy request weights assigned index terms ther properties system discussed shown systems retain manipulability traditional boolean requests ', 63: 'commercially available online search used standard comparative searching evaluation inhouse information system based automatic indexing system features identified evaluated basis usefulness various kinds searching ease implementation influenced differences user type specific applications common features commercial system online instruction userspecified print formats dictionary display truncation seen unnecessary impractical inhouse system designing inhouse system therefore detald consideration must given applications operating environment real user needs commercial system serve useful standard comparative evaluation one must careful attempt duplicate blindly inhouse ', 64: 'argued information science distinguish physical objective document space perspective subjective information space two spaces like maps landscapes systematic distortion however transformation easily made two spaces distinguished transformations omitted get unhelpful physical solutions information problems ', 65: 'use document clusters suggested efficient file organization document retrieval system possible using information relationships documents effectiveness system ie ability distinguish relevant nonrelevant documents may also improved paper probabilistic model cluster searching based query classification described model tested retrieval experiments indicate effective heuristic cluster searches cluster searches based models also effective full search every document compared query efficiency aspects implementation model discussed ', 66: 'current online library network technology described including physical functional aspects networks three types networks distinguished search service eg sdc lockheed customized service provide bibliographic files eg oclc inc rlin service center eg nelinet incolsa predicted technology evolves services provided outside library directly user home office ', 67: 'experimental computer program developed classify documents according 80 sections five major section groupings chemical abstracts ca program uses pattern recognition techniques supplemented heuristics training phase words preclassified documents selected probability occurrence word section ca computed stored reference dictionary classification phase matches word document title dictionary assigns section number document using weights derived probabilities dictionary heuristic techniques used normalize word variants plurals past tenses gerunds training phase classification phase dictionary lookup technique supplemented analysis chemical nomenclature terms component word roots influence section documents assigned program performance human consistency evaluated comparing program results published sections ca conducting experiment people experienced assignment documents ca sections program assigned approximately 78 documents correct major section groupings ca 67 correct sections crossreferences rate 100 documents per second ', 68: 'automatic classification procedures used information retrieval derive clusters documents intermediate similarity matrix computation involves comparing documents collection others recently suggested many comparisons specifically documents terms common may avoided means uyse inverted file document collection communication shows approach effect reductions number interdocument comparisons documents indexed limited number indexing terms exhaustive indexing used many document pairs compared several times computation greater conventional approaches used generate similarity matrix ', 69: 'use minicomputer various phases creating thesaurus national information center special education materials nicsem database described minicomputer used collect edit correct candidate thesaurus terms use minicomputer eases process grouping terms files similar concepts facilitates generation products useful vocabulary review term structuring syndetic relations indicated assigning coded identification numbers altered easily design phase reflect restructuring requirements thesaurus terms already machine readable form simple prepare print programs provide permuted alphabetic hierarchical chart formatted term displays overall use minicomputer facilitates initial thesaurus entry development reducing clerical effort editorial staff decisions overall processing times ', 70: 'decision support systems dss represent concept role computers within decision making process term become rallying cry researchers practitioners managers concerned management science management information systems fields become unnecessarily narrow focus many rallying cries term well defined writers dss simply mean interactive systems use managers others key issue support rather system focus understanding improving decision process dss designed using available suitable technology researchers view dss subfield mis others regard extension management science techniques former define decision support providing managers access data latter giving access analytic models key argument paper term dss relevant situations final system developed adaptive process learning evolution design strategy must focus getting finished different management science data processing approaches research issued dss center around adaption evolution include managerial learning representation tasks user behavior design architecture strategies getting started ', 71: 'new method described extract significant phrases title abstreact scientific technical documents method based upon text structure analysis uses relatively small dictionary dictionary constructed based knowledge concepts field science technology lexical knowledge significant phrases component items may used different meanings among fields text analysius approach applied select significant phrases substantial semantic information carriers contents abstract results experiment five sets documents shown significant phrases effectively extracted cases number every document processing time fairly satisfactory information representation document partly using method discussed relation construction document information retrieval system ', 72: 'passage retrieval already operational lawyers advantages output form opver references retrieval economically feasible previous experiments passage retrieval scientists demonstrated recall false retrieval rates good better present reference retrieval services present experiment involved greater variety forms retrieval question addition search words selected independently two different people retrieval question search words selected combination computer procedures used passage retrieval produced average recall ratios 72 67 respectively two selectors false retrieval rates except one predictably difficult question respectively 13 10 falsely retrieved sentences per answerpaper retrieved ', 73: 'paper describe practical method partialmatch retrieval large data files binary code word called descriptor associated record file record descriptors used form derived descriptor block several records serve index block whole hence name indexed descriptor files first structure files described simple efficient retrieval algorithm presented expected behavior terms storage accesses analyzed detail two different file creation procedures sketched number ways file organization tuned particular application suggested ', 74: 'recenty technological advances success oclc inc led emergence three additional nonprofit library networks research libraries information network rlin research libraries group inc university toronto library automation system utlas washington library network wln paper examines economic technological factors affecting evolution networks also explores role state regional multistate networks broker oclc services competitive cooperative nature network relationships major theme discussion ', 75: 'new type natural language parser presented idea behind parser map input sentences deepest form representation meaning inferences appropriate parser distinct entire understanding system uses integrated conception inferences scripts plans knowledge aid parse furthermore attempt parse everything sees rather determines interesting concentrates ignoring rest ', 76: 'paper discusses origins library networks traces development united states late 1960s present concept resource sharing particular attention inter library loan programs cooperative acquisition storage materials examined relationship library networks particular attention given question two major components library cooperation tended separate might become closely integrated ', 77: 'paper presents method normalizations english titles retrieval title expressed noun phrase noun clause converted functionexpression parsing retrieval reasonable recall rate well high precision rate function expression transformed predicategovernor form normalized standard form therefrom various items extracted recorded hierarchical treelike inverted file order keep recall rate reasonable value several retrieval stages implemented based keyterm caselabel matching retrieval controlled preciseness specification caselabels keyterm ', 78: 'generalization notion atn grammar called cascaded atn catn prescribed catns permit decomposition complex language understanding behavior sequence cooperating atns separate domain responsibility stage called atn transducer takes input output previous stage paper includes extensive discjussion principles factoringconceptual factoring reduces number places given fact needs represented grammar hypothesis factoring reduces number distinct hypotheses considered parsing ', 79: 'algorithms given process partially specified queries compressed database system proposed methods handle effectively queries use either whole words word fragments language elements methods compared critically evaluated terms design retrieval costs analyses show method exploits interdependence fragments well relevance fragments records file maximum design cost least retrieval cost ', 80: 'detailed analysis eight previously published mathematical models general formulation bradfords distribution deduced follows logx c b ratio cumulative frequency articles total number articles x ratio rank journals total number journals parameters b c slope intercept shift straight line log rank respectively eight models special case general formulation one five types formulation order estimate three unknown parameters statistical method using rootweighted square error proposed comparative experiment using 11 databases suggests fifth type formulation three unknown parameters best fit observed data experiment shows deletion droop data leads accurate value parameters less error ', 81: 'lexical problems large information systems created necessity handling great number names interrelations lexical problems covered completely concept data dictionaries mostly concerned database scheme design rather execution operations paper introduce view lexical subsystem separate component information system architecture deal linguistic control functions concerning lexical problems local network environments lexical suybsystem special efficiently organized program package plays role linguistic filter broad sense lexically incorrect queries promotes integration databases information retrieval systems facilitates creation local information systems hope lexical subsystems become productive large especially distributed information system ', 82: 'relational model received increasing attention past decade advantages include simplicity consistency sound theoretical basis article naturalness viewing information retrieval relationally demonstrated relational model presented relational organization bibliographical database shown notion normalization introduced first second third fourth normal forms demonstrated relational languages discussed including relational calculus relational algebra sequel numerous examples pertinent information retrieval presented relational languages advantages relational approach information retrieval noted ', 83: 'paper describes architectural approach provides information exchange across broad spectrum user applications office automation offerings architectures described herein currently implemented existing ibm products architectures provide basis document interchange capability products ibm 5520 administrative system ibm system370 distributed office support system disoss ibm displaywriter system specifically described document distribution architecture associated data streams others general overview architectures opposed detailed technical description provided architectures described protocols interchange application processes address specific user interface document distribution architectures utilize sna data transmission communications control facilities ', 84: 'technique described automatic reformulation boolean queries based patron relevance judgements initial retrieval prevalence measures derived terms appearing retrieved set documents reflect terms distribution among relevant nonrelevant documents measures used guide construction boolean query subsequent retrieval illustrate technique series tests described application small data base experimental environment results compare favourably feedback employed smarttype system extensive testing suggested validate technique ', 85: 'paper intended propose new methodological approach conception development natural language understanding systems new contribution supported design implementation experimentation donau general purpose domain oriented natural language understanding system developed presently running milan polytechnic artificial intelligence project system based two level modular architecture intended overcome lack flexibility generality often pointed many existing systems facilitate exchange results actual experiences different projects horizontal level allows independent parallel development single segments system syntactic analyser information extractor legality controller vertical level ensures possibility changing enlarging redefining definition semantic domain particular version system oriented specialized simple incremental useroriented way paper general architecture system mode operation segment illustrated detail linguistic models knowledge representation parsing algorithms described illustrated means selected examples performance evaluations system application version data base inquiry reported discussed promising directions future research presented conclusions ', 86: 'approximate matching strings reviewed aim surveying techniques suitable finding item database may spelling mistake error keyword methods found classified either equivalence similarity problems equivalence problems seen readily solved using canonical forms similarity problems difference measures surveyed full description wellestablished dynamic programming method relating approach using probabilities likelihoods searches approximate matches large sets using difference function seen open problem still though several promising ideas suggested approximate matching error correction parsing briefly reviewed ', 87: 'prototype system created integrates microfiche catalog online computer system bibliographic control costs operational data collected analyzed system permits economical microfiche storage catalog records would feasible comparable online magnetic disk storage experimental tests demonstrate feasibility online microfiche catalog system use library technical services retrieval bibliographic data primary result project creation completely operational facility including equipment software procedures data bases necessary demonstrate system second set results derived experimental use system evaluation costs times various operations cost effectiveness online microfiche catalog demonstrated ', 88: 'question asked whether feasible use subsets natural languages query languages data bases actual applications using question answering system user specialty languages usl methods evaluating natural language based information system discussed results error language structure evaluation suggest form general architecture application systems use subset german query language ', 89: '1978 collier presented hypothetical data economic aspects use online services compared subscriptions printed services libraries colliers view economics online searching seems misleadingly pessimistic 1 looks costs effectiveness comparing two modes access searching analysis combining cost effectiveness aspects ie costeffectiveness analysis would give completely different picture 2 way cost data presented grossly unfair online mode access use work contains corrected information regarding online printed services libraries ', 90: 'many information scientists concerned operation document retrieval systems serving scientists various fields scientists served systems often members called invisible colleges groups scientists frequent communication one another involved highly specialized subject matters often groups considered share intellectual perspective regarding subject matter sometimes referred paradigm purpose paper show possible identify paradigms using techniques citation analysis operationalize notion paradigm consensual structure concepts field suppose obtained set papers pertaining topic already knowing something field read text mark passages certain specific concepts used discussed example might find concept designated appears subset papers suppose identify papers concepts b used together papers certain specified manner clearly concepts combine natural way authors combining concepts b way though predominant mode may emerge set n concepts structure given totality admissible combinations concepts taken two n time frequency given combination occurs sample papers topic measure degree consensus regarding particular concept combination within corpus concepts taken two time structure displayed graph concepts nodes relations represented lines arcs connecting nodes definition concept structure similar semantic network artificial intelligence except approach measure consensus weights arc graph ', 91: 'one mode online retrieval scisearch social scisearch involves entering pairs authors names believed jointly cited subsequent writers retrieving papers cocitations occur six pairs formed names four authors prominent social indicators movement bauer duncan land sheldon documents four specified thought pair duncan land would retrieve papers indicatortype data would integrated pathanalytic causal modeling pairs seemed likely retrieve general social indicators literature 298 retrieved papers confirmed expectattions found 121 papers generally cited social indicators si documents input authors frequently si language titles signs content also identified papers si movement 177 papers retrieved duncan land generally cited causal modeling documents input pair pathanalytic nature expected relatively harder first group papers although two groups akin formally linked citations certain papers additional result papers citing least three input authors tend overviews si movement ', 92: 'number databases records contained databases online use databases increased dramatically past several years bringing 1979 totals bibliographic bioliographicrelated natural language databases 528 528 databases contain 148 million records 4 million online searches conducted via major us canadian systems 1979 ', 93: 'method iterative searching using results one iteration search formulate next iteration search applied fulltext database consisting 2400 documents 13000000 textwords hebrew aramaic iterative method consists clustering documents returned iteration using weighting proximity frequency simultaneously process produces searchonyms terms synonymous keywords context single query augumenting replacing keywords searchonyms via manual automatic feedback leads formulation next iteration search results experiment consistent earlier smallscale experiment english database indicate contrast global clustering size matrices limits applications small databases improvements doubtful local metrical methods appear well suited arbitrarily large databases improving precision recall simultaneously experiments using testqueries run even larger databases made collect evidence performance methods ', 94: 'refles microcomputerbased system data retrieval library environments problem information retrieval discussed theoretical point view followed analysis reference process data thereby gathered leading description refles terms hardware software refles prototype system present currently functions test environment examples data contained system use presented future considerations speculations versions system conclude paper ', 95: 'major deficiency traditional boolean systems inability represent varying degrees document may written subject article isolate number criteria met boolean system generalized weighting capability proven one weighting rule satisfies conditionsthat associated fuzzy set theoryand weighting scheme satisfies properties associated boolean algebra well probabilistic weighting introduced alternative approach two systems compared limit zeroone weights systems considered converge traditional boolean retrieval ', 96: 'several papers appeared analyzed recent developments problem processing document retrieval system queries expressed boolean expressions purpose paper continue analysis shall show concept threshold values resolves problems inherent relevance weights moreover shall explore possible evaluation mechanisms retrieval documents based fuzzysettheoretic considerations ', 97: 'good deal work information retrieval systems continuous weights assigned index terms describe records database andor query terms describe user queries recent articles analyzed retrieval systems continuous weights either type andor boolean structure queries also suggested criteria systems ought satisfy record evaluation mechanisms partially satisfy criteria offer careful analysis based generalization discrete weights also look weights entirely different approach involving thresholds generate improved evaluation mechanism seems fulfill larger subset desired criteria previous mechanisms new mechanism allows user attach threshold query term ', 98: 'online retrieval systems may difficult use especially end users heterogeneity complexity investigations concerned concept translating computer interface means simplify access operation heterogeneous bibliographic retrieval systems databases interface allows users make requests common language requests translated interface appropriate commands whatever system interrogated system responses may also transformed interface common form given users thus network different systems made look like single virtual system user interface also provides instruction search aids user philosophy design implementation experimental interface named conit described ', 99: 'evaluation concept translating compuyter interface simplifying operation multiple heterogenous online bibliographic retrieval systems undertaken experimental retrieval system named conit built tested controlled conditions inexperienced end users detailed analysis experimental usages showed users able master interface operation sufficiently well find relevant document references success attributed part simple command language adequate online instruction simplified naturallanguage keywordstem approach searching concluded operational interfaces type studied provide increased usability existing system cost effective manner especially searchers furthermore advanced interfaces based improved instruction automated search strategy techniques could enhance retrieval effectiveness wide class users ', 100: 'paper notes benefits accruing interaction computerized retrieval systems micrographic retrieval systems reviews current state automated micrographic retrieval technology conclusion combination advances communications technology sophisticated indexing input libraries information scientists new generation automated micrographs devices may constitute online document retrieval systems future ', 101: 'conventional information retrieval processes largely based data movement pointer manipulations integer arithmetic refined retrieval algorithms may addition benefit substantial computational power present study number parallel processing methods described serve enhance retrieval services conventional retrieval environments parallel list processing parallel search facilities greatest interest advanced systems use array processors also proves beneficial various information retrieval processes examined evidence given demonstrate usefulness parallel processing fast computational facilities information retrieval ', 102: 'frequency characteristics terms documents collection used indicators term importance content analysis indexing purposes particular rare frequent terms normally believed less effective mediumfrequency terms recently automatic indexing theories devised use term frequency characteristics also relevance properties terms major termweighting theories first briefly reviewed term precision term utility weights based occurrence characteristics terms relevant opposed nonrelevant documents collection introduced methods suggested estimating relevance properties terms based overall occurrence characteristics collection finally experimental evaluation results shown comparing weighting systems using term relevance properties conventional frequencybased methodologies ', 103: 'paper describes design implementation electronic filing machine machine capable storing large numbers unstructured documents way particular document may easily quickly retrieved functional distributed architecture permits implementation system mixture hardware software ', 104: 'paper tackles problem one might select search terms using relevance feedback given search terms query search terms extracted maximum spanning tree connecting terms index term vocabulary number different spanning trees generated variety association measures retrieval effectiveness different spanning trees shown approximately effectiveness measured terms precision recall retrieval tests done three different test collections ', 105: 'indexing quality determines whether information content indexed document accurately represented indexing effectiveness measures whether indexed document correctly retrieved every time relevant query measurement criteria cumbersome costly data base producers therefore prefer interindexer consistency measure indexing quality effectiveness present article assesses validity substitution various environments ', 106: 'set experiments conducted determine suitability colon classification foundation automated analysis representation retrieval primary information full text documents primary information information embodied text document opposed secondary information generally forms abstract table contents index full text databases created two subject areas queries solicited specialists area automated full text indexing system along four automated passage retrieval systems created test various features colon classification two booleanbased systems one simple word occurrence system created order compare retrieval results types systems common use systems retrieval performances measured using recall precision mean expected search length reduction factors overall found colon classificationbased systems perform significantly better systems ', 107: 'study carried relationship vocabulary user queries vocabulary documents relevant queries value adding document description record retrieval system keywords previous queries document proved useful two test databases incorporating user query keywords implemented school library information science university western ontario clustering documents via title user keywords statistical analysis titleuser keyword cooccurrences retrieval tests used examine effect added keywords results showed impracticality procedure operational setting indicated value analyses sample data development maintenance keyword dictionaries thesauri ', 108: 'technique online instruction assistance bibliographic data base searchers called individualized instruction data access iida developed drexel university iida assists searchers providing feedback based realtime analysis searches performed extensive help facilities draw analysis available users much projects experimental work described elsewhere concerned process searching behavior searchers paper largely address projects computer system developed subcontract franklin institutes science information services ', 109: 'shown mapping particular area science case information science done using authors units analysis cocitations pairs authors variable indicates distances analysis assumes two authors cited together closer relationship raw data cocitation counts drawn online social scisearch social sciences citation index period 19721979 gthe resulting map shows 1 identifiable author groups akin schools information science 2 locations groups respect 3 degree centrality peripherality authors within groups 4 proximities authors within group across group boundaries border authors seem connect various areas research 5 positions authors respect maps axes arbitrarily set spanning divergent groups order aid interpretation cocitation analysis authors offers new technique might contribute understanding intellectual structure sciences possibly areas extent areas rely serial publications technique establishes authors well documents effective unit analyzing subject specialties ', 110: 'office future office technology word processing electronic mail electronic communications convergence information management terms included current list buzz words used describe current activities office technology area high level investment factories plants everincreasing fight improve productivity automating dull routine jobs usually quoted compared extremely low investment improving automating equally tedious routine jobs office environment investment factory quoted ten times greater per employee office however changing rapidly investment large scale already taking place manhy areas presentday inflation bites hard forcing many companies organizations take much closer look office operations ', 111: 'automated document clustering procedure described require use interdocument similarity matrix independent order documents processed procedure makes use initial set clusters derived certain terms indexing vocabulary used characterise documents file retrieval effectiveness obtained using clustered file compared obtained serial searching use singlelinkage clustering method ', 112: 'fast algorithm described comparing lists terms representing documents automatic classification experiments speed procedure arises fact nonzerovalued coefficicents given document identified together using inverted file terms document collection complexity running time algorithm compared previously described procedures '}\n"
          ]
        }
      ]
    },
    {
      "cell_type": "markdown",
      "metadata": {
        "id": "hn5yASFBfqLk"
      },
      "source": [
        "### 2.Train-Validation Data Split"
      ]
    },
    {
      "cell_type": "code",
      "execution_count": 101,
      "metadata": {
        "execution": {
          "iopub.execute_input": "2022-08-29T16:07:08.902624Z",
          "iopub.status.busy": "2022-08-29T16:07:08.902158Z",
          "iopub.status.idle": "2022-08-29T16:07:08.912771Z",
          "shell.execute_reply": "2022-08-29T16:07:08.910672Z",
          "shell.execute_reply.started": "2022-08-29T16:07:08.902574Z"
        },
        "id": "OVu8onAGkKrJ",
        "outputId": "7a34f44a-89e2-47f7-a0d7-f40158dc259a",
        "trusted": true,
        "colab": {
          "base_uri": "https://localhost:8080/"
        }
      },
      "outputs": [
        {
          "output_type": "stream",
          "name": "stdout",
          "text": [
            "Train split\n",
            " qry length: 78, doc length: 1022\n",
            "\n",
            "Train split\n",
            " qry length: 34, doc length: 438\n"
          ]
        }
      ],
      "source": [
        "#Split data into 70-30 \n",
        "qry_set_train_split = int(len(qry_set)*70/100)\n",
        "doc_set_train_split = int(len(doc_set)*70/100 )\n",
        "print(f\"Train split\\n qry length: {qry_set_train_split}, doc length: {doc_set_train_split}\\n\")\n",
        "\n",
        "qry_set_valid_split = int(len(qry_set)-qry_set_train_split)\n",
        "doc_set_valid_split = int(len(doc_set)-doc_set_train_split)\n",
        "print(f\"Train split\\n qry length: {qry_set_valid_split}, doc length: {doc_set_valid_split}\")"
      ]
    },
    {
      "cell_type": "code",
      "execution_count": 102,
      "metadata": {
        "execution": {
          "iopub.execute_input": "2022-08-29T16:07:10.948603Z",
          "iopub.status.busy": "2022-08-29T16:07:10.947934Z",
          "iopub.status.idle": "2022-08-29T16:07:10.953175Z",
          "shell.execute_reply": "2022-08-29T16:07:10.952209Z",
          "shell.execute_reply.started": "2022-08-29T16:07:10.948569Z"
        },
        "id": "CJJKvjfUqiA3",
        "trusted": true
      },
      "outputs": [],
      "source": [
        "def is_similar(query_id, doc_id):\n",
        "  return 0.9 if query_id in rel_set.keys() and doc_id in rel_set[query_id] else 0.1"
      ]
    },
    {
      "cell_type": "code",
      "execution_count": 103,
      "metadata": {
        "execution": {
          "iopub.execute_input": "2022-08-29T16:07:11.453284Z",
          "iopub.status.busy": "2022-08-29T16:07:11.452510Z",
          "iopub.status.idle": "2022-08-29T16:07:11.999628Z",
          "shell.execute_reply": "2022-08-29T16:07:11.998534Z",
          "shell.execute_reply.started": "2022-08-29T16:07:11.453224Z"
        },
        "id": "Hx_uPOme7JPX",
        "outputId": "080aa314-26cb-4bde-9f23-f17409121694",
        "trusted": true,
        "colab": {
          "base_uri": "https://localhost:8080/",
          "height": 49,
          "referenced_widgets": [
            "0ad9805b42c749ef957d0868a42bc3fc",
            "7301209375f74bf791cdc4427541c7eb",
            "c6a981eaf1794398ad057e00de5aec28",
            "b5e0c4eb6b14431a95466ceaa0b8f08e",
            "2d63603f50b6444bad9d923c5c0b0caa",
            "6e9eaa16fcd14220b7620d8c630c0ea3",
            "a8ff5394fdd241908dbf789a3bf43e27",
            "7c0f62ce35c3436c959f6eb004cc04ce",
            "e5325bb4857144fb9f3b0ad0dddce836",
            "3402619ed79a44e2966bdbb5e89a35b2",
            "61448d08bc094384bfe678fe5cc771ab"
          ]
        }
      },
      "outputs": [
        {
          "output_type": "display_data",
          "data": {
            "text/plain": [
              "  0%|          | 0/78 [00:00<?, ?it/s]"
            ],
            "application/vnd.jupyter.widget-view+json": {
              "version_major": 2,
              "version_minor": 0,
              "model_id": "0ad9805b42c749ef957d0868a42bc3fc"
            }
          },
          "metadata": {}
        }
      ],
      "source": [
        "#Reformat the input data for Finetuning Sentence Transformer using MNR Loss\n",
        "train_samples = []\n",
        "\n",
        "for query_id in tqdm_notebook(range(qry_set_train_split)):\n",
        "  for doc_id in range(doc_set_train_split):\n",
        "    train_samples.append(\n",
        "        InputExample(\n",
        "            texts=[qry_set[query_id+1], doc_set[doc_id+1]],\n",
        "            label= is_similar(query_id+1, doc_id+1)\n",
        "            ))"
      ]
    },
    {
      "cell_type": "code",
      "execution_count": 104,
      "metadata": {
        "execution": {
          "iopub.execute_input": "2022-08-29T16:07:12.533595Z",
          "iopub.status.busy": "2022-08-29T16:07:12.533218Z",
          "iopub.status.idle": "2022-08-29T16:07:12.760820Z",
          "shell.execute_reply": "2022-08-29T16:07:12.759847Z",
          "shell.execute_reply.started": "2022-08-29T16:07:12.533563Z"
        },
        "id": "wfhfR95knZWp",
        "outputId": "a01ee612-ea89-4a29-bee7-512687335cbf",
        "trusted": true,
        "colab": {
          "base_uri": "https://localhost:8080/",
          "height": 49,
          "referenced_widgets": [
            "a96258ec336d4baba6aed21b7c875d00",
            "35c5981fa9034522bbd7dcced6764beb",
            "725409c85b61470a85ddbe88c234b44c",
            "532e21298d1b4febb02a2f3ec03631f4",
            "7d9ead953765493794a5dfea6e80b927",
            "56ca7deebae9458589672013ae4bc379",
            "cf0e4e5821474f91ab0714a3af126dc2",
            "2eaa42bbef0240c99bc95e360596d64d",
            "f16f52d10aa14c84ad2b3c9f43caaac0",
            "638ef75c43b84dcb9fd50c996c367715",
            "435ca3c8c4d743099971e9df9a63ec70"
          ]
        }
      },
      "outputs": [
        {
          "output_type": "display_data",
          "data": {
            "text/plain": [
              "  0%|          | 0/34 [00:00<?, ?it/s]"
            ],
            "application/vnd.jupyter.widget-view+json": {
              "version_major": 2,
              "version_minor": 0,
              "model_id": "a96258ec336d4baba6aed21b7c875d00"
            }
          },
          "metadata": {}
        }
      ],
      "source": [
        "#Reformat the input data for Finetuning Sentence Transformer using MNR Loss\n",
        "validation_samples = []\n",
        "\n",
        "for query_id in tqdm_notebook(range(qry_set_train_split, len(qry_set))):\n",
        "  for doc_id in range(doc_set_train_split, len(doc_set)):\n",
        "    validation_samples.append(\n",
        "        InputExample(\n",
        "            texts=[qry_set[query_id+1], doc_set[doc_id+1]],\n",
        "            label= is_similar(query_id+1, doc_id+1)\n",
        "            ))"
      ]
    },
    {
      "cell_type": "markdown",
      "metadata": {
        "id": "inQGGrkg7x83"
      },
      "source": [
        "### 3. Finetune SBERT"
      ]
    },
    {
      "cell_type": "code",
      "execution_count": 121,
      "metadata": {
        "execution": {
          "iopub.execute_input": "2022-08-29T16:07:22.052897Z",
          "iopub.status.busy": "2022-08-29T16:07:22.052177Z",
          "iopub.status.idle": "2022-08-29T16:07:33.152195Z",
          "shell.execute_reply": "2022-08-29T16:07:33.151216Z",
          "shell.execute_reply.started": "2022-08-29T16:07:22.052860Z"
        },
        "id": "PMQtsNbGwk6_",
        "trusted": true
      },
      "outputs": [],
      "source": [
        "#Define Model, Dataloader, loss, evaluator\n",
        "model = SentenceTransformer('all-MiniLM-L6-v2')\n",
        "\n",
        "loader = DataLoader(train_samples, shuffle=True, batch_size=16)\n",
        "\n",
        "loss = losses.CosineSimilarityLoss(model)"
      ]
    },
    {
      "cell_type": "code",
      "execution_count": 122,
      "metadata": {
        "execution": {
          "iopub.execute_input": "2022-08-29T16:07:33.155708Z",
          "iopub.status.busy": "2022-08-29T16:07:33.155026Z",
          "iopub.status.idle": "2022-08-29T16:19:54.820512Z",
          "shell.execute_reply": "2022-08-29T16:19:54.819485Z",
          "shell.execute_reply.started": "2022-08-29T16:07:33.155669Z"
        },
        "id": "q4Lp0faX7k9X",
        "outputId": "c0cd97cf-b039-434e-99f6-e1570681c24c",
        "trusted": true,
        "colab": {
          "base_uri": "https://localhost:8080/",
          "height": 145,
          "referenced_widgets": [
            "88f03c68c0454beeb8fc36045470ca0e",
            "3f27aeb4e1374fc3a84e4d0fbdf64f31",
            "e3edca1dcf354c3fb28a38e701e34d3c",
            "017bba92415a4b1a9e150981a79bdc7a",
            "c790dcadb5f34dad88a0a3f36caa4df1",
            "6f80e6d87de44b01a89d7d4d6794bb95",
            "e00e593ece2b4a4dad04f73b2fc329cf",
            "27b7240cade34bfdb4e056175cbc89fd",
            "55299324b577445c85aacd763dcc4855",
            "39289bb4c98f4507ac89fa99489de336",
            "9a12010d621246f2ba82769e721e0807",
            "c784566fee354fb5afe180c4f752bd35",
            "fa9a81b17d68471aa953d434bafa8963",
            "5ac7da3486c5444393799216f5544757",
            "b53667510faa4224a8d857ea3ee8fbdf",
            "31b0fc853a354f2481298314a94f6762",
            "a0b631c8a5c4470287e5fa3a38b647a7",
            "9f1b5be30b6146e1abc8540af049178e",
            "f3829acf820b4c29ab3ebac255ac55ae",
            "294600d83d89480790efce5ad11e37ae",
            "1b2b1bf555c5407797b3db761b509e03",
            "84cae1899b154c7bbe9dbacb64beedcd",
            "648675adc8a34978b09eb4f63075aaa0",
            "f8e68c7390974aef876489a8890bf2df",
            "89e7f9eddec94a1299190287bf71c32f",
            "09882488658046909d1cbe5e0f8c3ee7",
            "f8c9422bf704452aaa6ef919232366ee",
            "71124b09a1b245989a80f3527943845d",
            "139ed94087754d11bf99e882d56f09ce",
            "2cb5a7e2b8034d6883b029d2f7b716e5",
            "7f1946af5a0e469f914a9d2e1b8d6e2c",
            "44cd88e0e35a415ab14a59ca1acabce4",
            "c9a550c3a6de46ae8c26b3ed80e5ad96",
            "21736a8c4fb449b2964fc9ae6a83a8c0",
            "1055eb58d7af4663b4445d2c2a1a7f7c",
            "03f10c3df6f240a486cb1e2de42ea37b",
            "c6fcecad12ab4992a94f864f12a25992",
            "2512da7d70224dd59b880ae4440948e4",
            "378dc48524bd4e06b87b9806aab6503e",
            "3d34d35808124e2d8c455bd7edfb1fda",
            "a935a0e4a3854fe48a8192456bf35ddf",
            "37c6f69450a347f88e12d892f3254129",
            "ee899e15ffdb416baa88e29f8af6c50d",
            "34fca5792a234b2aa3f435653dd843ec"
          ]
        }
      },
      "outputs": [
        {
          "output_type": "display_data",
          "data": {
            "text/plain": [
              "Epoch:   0%|          | 0/3 [00:00<?, ?it/s]"
            ],
            "application/vnd.jupyter.widget-view+json": {
              "version_major": 2,
              "version_minor": 0,
              "model_id": "88f03c68c0454beeb8fc36045470ca0e"
            }
          },
          "metadata": {}
        },
        {
          "output_type": "display_data",
          "data": {
            "text/plain": [
              "Iteration:   0%|          | 0/4983 [00:00<?, ?it/s]"
            ],
            "application/vnd.jupyter.widget-view+json": {
              "version_major": 2,
              "version_minor": 0,
              "model_id": "c784566fee354fb5afe180c4f752bd35"
            }
          },
          "metadata": {}
        },
        {
          "output_type": "display_data",
          "data": {
            "text/plain": [
              "Iteration:   0%|          | 0/4983 [00:00<?, ?it/s]"
            ],
            "application/vnd.jupyter.widget-view+json": {
              "version_major": 2,
              "version_minor": 0,
              "model_id": "648675adc8a34978b09eb4f63075aaa0"
            }
          },
          "metadata": {}
        },
        {
          "output_type": "display_data",
          "data": {
            "text/plain": [
              "Iteration:   0%|          | 0/4983 [00:00<?, ?it/s]"
            ],
            "application/vnd.jupyter.widget-view+json": {
              "version_major": 2,
              "version_minor": 0,
              "model_id": "21736a8c4fb449b2964fc9ae6a83a8c0"
            }
          },
          "metadata": {}
        }
      ],
      "source": [
        "#train for a single epoch and warmup for the first 10% of our training steps.\n",
        "model.fit(\n",
        "    train_objectives=[(loader, loss)],\n",
        "    epochs=3,\n",
        "    warmup_steps = 100\n",
        ")"
      ]
    },
    {
      "cell_type": "markdown",
      "metadata": {
        "id": "3e43faa7"
      },
      "source": [
        "### 4.Compute embeddings and similarity"
      ]
    },
    {
      "cell_type": "code",
      "execution_count": 123,
      "metadata": {
        "execution": {
          "iopub.execute_input": "2022-08-29T16:20:12.979293Z",
          "iopub.status.busy": "2022-08-29T16:20:12.978480Z",
          "iopub.status.idle": "2022-08-29T16:20:14.657425Z",
          "shell.execute_reply": "2022-08-29T16:20:14.656313Z",
          "shell.execute_reply.started": "2022-08-29T16:20:12.979252Z"
        },
        "id": "AEa0ODl_KBWC",
        "trusted": true
      },
      "outputs": [],
      "source": [
        "#compute the embeddings for the corpus\n",
        "docs_embeddings = model.encode(list(doc_set.values()), convert_to_tensor=True)"
      ]
    },
    {
      "cell_type": "code",
      "execution_count": 124,
      "metadata": {
        "execution": {
          "iopub.execute_input": "2022-08-29T16:20:17.438750Z",
          "iopub.status.busy": "2022-08-29T16:20:17.437837Z",
          "iopub.status.idle": "2022-08-29T16:20:17.447308Z",
          "shell.execute_reply": "2022-08-29T16:20:17.446171Z",
          "shell.execute_reply.started": "2022-08-29T16:20:17.438699Z"
        },
        "id": "D-hk1eDoKCcB",
        "outputId": "92d5050e-5b1f-4520-83a5-243a82dea0af",
        "trusted": true,
        "colab": {
          "base_uri": "https://localhost:8080/"
        }
      },
      "outputs": [
        {
          "output_type": "execute_result",
          "data": {
            "text/plain": [
              "torch.Size([1460, 384])"
            ]
          },
          "metadata": {},
          "execution_count": 124
        }
      ],
      "source": [
        "docs_embeddings.shape"
      ]
    },
    {
      "cell_type": "code",
      "execution_count": 125,
      "metadata": {
        "execution": {
          "iopub.execute_input": "2022-08-29T16:20:20.058236Z",
          "iopub.status.busy": "2022-08-29T16:20:20.057524Z",
          "iopub.status.idle": "2022-08-29T16:20:20.212223Z",
          "shell.execute_reply": "2022-08-29T16:20:20.211122Z",
          "shell.execute_reply.started": "2022-08-29T16:20:20.058198Z"
        },
        "id": "TnguMm_iNugG",
        "trusted": true
      },
      "outputs": [],
      "source": [
        "#compute the embeddings for the queries\n",
        "query_embeddings = model.encode(list(qry_set.values()), convert_to_tensor=True)"
      ]
    },
    {
      "cell_type": "code",
      "execution_count": 126,
      "metadata": {
        "execution": {
          "iopub.execute_input": "2022-08-29T16:20:22.628893Z",
          "iopub.status.busy": "2022-08-29T16:20:22.627903Z",
          "iopub.status.idle": "2022-08-29T16:20:22.639536Z",
          "shell.execute_reply": "2022-08-29T16:20:22.638305Z",
          "shell.execute_reply.started": "2022-08-29T16:20:22.628857Z"
        },
        "id": "kYggf-2QQkh_",
        "trusted": true
      },
      "outputs": [],
      "source": [
        "'''By default, \n",
        "query_chunk_size: process 100 queries simultaneously. \n",
        "corpus_chunk_size: scans 100k entries in the corpus at a time.\n",
        "score_function: cosine similarity for computing scores.\n",
        "'''\n",
        "#Returns list of Top 10 docs_id and scores for each query\n",
        "top_k_scores = util.semantic_search(query_embeddings, docs_embeddings, top_k=10)"
      ]
    },
    {
      "cell_type": "code",
      "execution_count": 127,
      "metadata": {
        "execution": {
          "iopub.execute_input": "2022-08-29T16:20:28.918671Z",
          "iopub.status.busy": "2022-08-29T16:20:28.917980Z",
          "iopub.status.idle": "2022-08-29T16:20:28.924547Z",
          "shell.execute_reply": "2022-08-29T16:20:28.923333Z",
          "shell.execute_reply.started": "2022-08-29T16:20:28.918635Z"
        },
        "id": "_uew8VG1TCbw",
        "trusted": true
      },
      "outputs": [],
      "source": [
        "#Get predicted TOP-10 doc_id for each query\n",
        "predicted_doc_scores = {}\n",
        "\n",
        "for i, query in enumerate(top_k_scores):\n",
        "  predicted_doc_scores[i+1] = []\n",
        "  for doc_scores in query:\n",
        "    predicted_doc_scores[i+1].append(doc_scores['corpus_id']+1)"
      ]
    },
    {
      "cell_type": "markdown",
      "metadata": {
        "id": "DiMrfA7k-va3"
      },
      "source": [
        "### 6. Performance Metrics "
      ]
    },
    {
      "cell_type": "markdown",
      "metadata": {
        "id": "PaJOdOMNADn0"
      },
      "source": [
        "#### 1] Recall@K"
      ]
    },
    {
      "cell_type": "code",
      "execution_count": 128,
      "metadata": {
        "execution": {
          "iopub.execute_input": "2022-08-29T16:20:43.540119Z",
          "iopub.status.busy": "2022-08-29T16:20:43.538797Z",
          "iopub.status.idle": "2022-08-29T16:20:43.546476Z",
          "shell.execute_reply": "2022-08-29T16:20:43.545229Z",
          "shell.execute_reply.started": "2022-08-29T16:20:43.540063Z"
        },
        "id": "EuhhrfMsADLL",
        "trusted": true
      },
      "outputs": [],
      "source": [
        "# Recall@K = TP/(TP+FN)\n",
        "def recall_k(ground_truth, predictions, k):\n",
        "  avg_recall = 0\n",
        "  for query_id in ground_truth:    \n",
        "    truth_set = set(ground_truth[query_id])\n",
        "    pred_set = set(predictions[query_id][:k])\n",
        "    result = round(len(truth_set & pred_set) / float(len(truth_set)), 2) \n",
        "    avg_recall += result\n",
        "    avg_recall /= len(ground_truth)\n",
        "\n",
        "  return round(avg_recall, 3)"
      ]
    },
    {
      "cell_type": "code",
      "execution_count": 129,
      "metadata": {
        "execution": {
          "iopub.execute_input": "2022-08-29T16:20:45.149734Z",
          "iopub.status.busy": "2022-08-29T16:20:45.148474Z",
          "iopub.status.idle": "2022-08-29T16:20:45.156649Z",
          "shell.execute_reply": "2022-08-29T16:20:45.155353Z",
          "shell.execute_reply.started": "2022-08-29T16:20:45.149684Z"
        },
        "id": "sMGaRwGHFeWK",
        "outputId": "605408d2-6181-4e64-93d9-877db772f2d5",
        "trusted": true,
        "colab": {
          "base_uri": "https://localhost:8080/"
        }
      },
      "outputs": [
        {
          "output_type": "stream",
          "name": "stdout",
          "text": [
            "Recall@10 = 0.009\n"
          ]
        }
      ],
      "source": [
        "print(f\"Recall@10 = {recall_k(rel_set, predicted_doc_scores, 10)}\") "
      ]
    },
    {
      "cell_type": "markdown",
      "metadata": {
        "id": "JMeIHbAjFouj"
      },
      "source": [
        "#### 2] Precision@K [order-unaware]"
      ]
    },
    {
      "cell_type": "code",
      "execution_count": 130,
      "metadata": {
        "execution": {
          "iopub.execute_input": "2022-08-29T16:20:48.383976Z",
          "iopub.status.busy": "2022-08-29T16:20:48.382993Z",
          "iopub.status.idle": "2022-08-29T16:20:48.390255Z",
          "shell.execute_reply": "2022-08-29T16:20:48.389213Z",
          "shell.execute_reply.started": "2022-08-29T16:20:48.383928Z"
        },
        "id": "blv6DOE2FqZF",
        "trusted": true
      },
      "outputs": [],
      "source": [
        "# Precision@K = TP/(TP+FP)\n",
        "def precision_k(ground_truth, predictions, k):\n",
        "  avg_precision = 0\n",
        "  for query_id in ground_truth:    \n",
        "    truth_set = set(ground_truth[query_id]) \n",
        "    pred_set = set(predictions[query_id][:k])\n",
        "    result = round(len(truth_set & pred_set) / float(len(pred_set)), 2) \n",
        "    avg_precision += result\n",
        "  avg_precision /= len(ground_truth)\n",
        "\n",
        "  return round(avg_precision, 3)"
      ]
    },
    {
      "cell_type": "code",
      "execution_count": 131,
      "metadata": {
        "execution": {
          "iopub.execute_input": "2022-08-29T16:20:49.318299Z",
          "iopub.status.busy": "2022-08-29T16:20:49.317653Z",
          "iopub.status.idle": "2022-08-29T16:20:49.323993Z",
          "shell.execute_reply": "2022-08-29T16:20:49.322977Z",
          "shell.execute_reply.started": "2022-08-29T16:20:49.318262Z"
        },
        "id": "RLjlBxchFsg8",
        "outputId": "7caed951-8861-44e2-9c8d-4ddb8a987fb3",
        "trusted": true,
        "colab": {
          "base_uri": "https://localhost:8080/"
        }
      },
      "outputs": [
        {
          "output_type": "stream",
          "name": "stdout",
          "text": [
            "Precision@10 = 0.721\n"
          ]
        }
      ],
      "source": [
        "print(f\"Precision@10 = {precision_k(rel_set, predicted_doc_scores, 10)}\")"
      ]
    },
    {
      "cell_type": "markdown",
      "metadata": {
        "id": "zVZuJExNFyTp"
      },
      "source": [
        "#### 3] Mean Reciprocal Rank (MRR) [order-aware]"
      ]
    },
    {
      "cell_type": "code",
      "execution_count": 132,
      "metadata": {
        "execution": {
          "iopub.execute_input": "2022-08-29T16:20:52.463539Z",
          "iopub.status.busy": "2022-08-29T16:20:52.462358Z",
          "iopub.status.idle": "2022-08-29T16:20:52.469272Z",
          "shell.execute_reply": "2022-08-29T16:20:52.468167Z",
          "shell.execute_reply.started": "2022-08-29T16:20:52.463491Z"
        },
        "id": "1k-xBEUwF0uH",
        "trusted": true
      },
      "outputs": [],
      "source": [
        "def get_first_relevent_docid(predictions, truth):\n",
        "    for doc_id in predictions:\n",
        "        is_exist = doc_id in truth \n",
        "        if is_exist:\n",
        "            return predictions.index(doc_id)+1 \n",
        "    else:\n",
        "        return -1"
      ]
    },
    {
      "cell_type": "code",
      "execution_count": 133,
      "metadata": {
        "execution": {
          "iopub.execute_input": "2022-08-29T16:20:53.017720Z",
          "iopub.status.busy": "2022-08-29T16:20:53.016785Z",
          "iopub.status.idle": "2022-08-29T16:20:53.024059Z",
          "shell.execute_reply": "2022-08-29T16:20:53.023082Z",
          "shell.execute_reply.started": "2022-08-29T16:20:53.017664Z"
        },
        "id": "R4pe1RhtF6C3",
        "trusted": true
      },
      "outputs": [],
      "source": [
        "def mrr(doc_scores, rel_set):\n",
        "    Q = len(rel_set) \n",
        "    cumulative_reciprocal = 0  \n",
        "    \n",
        "    for query_id in rel_set:\n",
        "        first_result = get_first_relevent_docid(doc_scores[query_id], rel_set[query_id])\n",
        "        first_result_rank = len(doc_scores[1])+1 if first_result<1 else first_result \n",
        "        reciprocal = 1 / first_result_rank\n",
        "        cumulative_reciprocal += reciprocal\n",
        "        \n",
        "    mrr = 1/Q * cumulative_reciprocal \n",
        "    return round(mrr,3)"
      ]
    },
    {
      "cell_type": "code",
      "execution_count": 134,
      "metadata": {
        "execution": {
          "iopub.execute_input": "2022-08-29T16:20:54.397544Z",
          "iopub.status.busy": "2022-08-29T16:20:54.397142Z",
          "iopub.status.idle": "2022-08-29T16:20:54.403796Z",
          "shell.execute_reply": "2022-08-29T16:20:54.402475Z",
          "shell.execute_reply.started": "2022-08-29T16:20:54.397510Z"
        },
        "id": "fVy3NV1pF74e",
        "outputId": "ed7a1bdb-0b31-47a0-ab95-be2a0ff299e3",
        "trusted": true,
        "colab": {
          "base_uri": "https://localhost:8080/"
        }
      },
      "outputs": [
        {
          "output_type": "stream",
          "name": "stdout",
          "text": [
            "Mean Reciprocal Rank (MRR): 0.883\n"
          ]
        }
      ],
      "source": [
        "mrr = mrr(predicted_doc_scores, rel_set)\n",
        "print(f\"Mean Reciprocal Rank (MRR): {mrr}\")"
      ]
    },
    {
      "cell_type": "markdown",
      "metadata": {
        "id": "VeBIH-DDGAFi"
      },
      "source": [
        "#### 4.4 Mean Average Precision (MAP) [order-aware]"
      ]
    },
    {
      "cell_type": "code",
      "execution_count": 135,
      "metadata": {
        "execution": {
          "iopub.execute_input": "2022-08-29T16:20:57.008084Z",
          "iopub.status.busy": "2022-08-29T16:20:57.007376Z",
          "iopub.status.idle": "2022-08-29T16:20:57.015521Z",
          "shell.execute_reply": "2022-08-29T16:20:57.014423Z",
          "shell.execute_reply.started": "2022-08-29T16:20:57.008049Z"
        },
        "id": "JQdxTcyaF9dU",
        "trusted": true
      },
      "outputs": [],
      "source": [
        "def map_k(rel_set, doc_scores, K):\n",
        "    Q = len(rel_set) \n",
        "    avg_precision = [] \n",
        "\n",
        "    for query_id in rel_set:\n",
        "        precision_relevance_summation = 0\n",
        "\n",
        "        for k in range(0,K):\n",
        "            # calculate precision@k\n",
        "            truth_set = set(rel_set[query_id])\n",
        "            pred_set = set(doc_scores[query_id][:k+1])\n",
        "            precision_at_k = round(len(truth_set & pred_set) / float(len(pred_set)), 2) \n",
        "            \n",
        "            rel_k = 1 if doc_scores[query_id][k] in rel_set[query_id] else 0 \n",
        "            precision_relevance_summation += precision_at_k * rel_k \n",
        "            \n",
        "        avg_precision_q = precision_relevance_summation / len(rel_set[query_id])\n",
        "        avg_precision.append(avg_precision_q)\n",
        "\n",
        "    map_k = sum(avg_precision) / Q \n",
        "    return round(map_k, 3)"
      ]
    },
    {
      "cell_type": "code",
      "execution_count": 136,
      "metadata": {
        "execution": {
          "iopub.execute_input": "2022-08-29T16:20:57.767735Z",
          "iopub.status.busy": "2022-08-29T16:20:57.767002Z",
          "iopub.status.idle": "2022-08-29T16:20:57.776707Z",
          "shell.execute_reply": "2022-08-29T16:20:57.775472Z",
          "shell.execute_reply.started": "2022-08-29T16:20:57.767697Z"
        },
        "id": "1G47XEIuGGgO",
        "outputId": "d6eeccb4-c52e-4a5f-e0fe-e93c4d7cc023",
        "trusted": true,
        "colab": {
          "base_uri": "https://localhost:8080/"
        }
      },
      "outputs": [
        {
          "output_type": "stream",
          "name": "stdout",
          "text": [
            "MAP@10 = 0.282\n"
          ]
        }
      ],
      "source": [
        "map_10 = map_k(rel_set, predicted_doc_scores, K=10)\n",
        "print(f\"MAP@10 = {map_10}\")"
      ]
    }
  ],
  "metadata": {
    "kernelspec": {
      "display_name": "Python 3",
      "language": "python",
      "name": "python3"
    },
    "language_info": {
      "codemirror_mode": {
        "name": "ipython",
        "version": 3
      },
      "file_extension": ".py",
      "mimetype": "text/x-python",
      "name": "python",
      "nbconvert_exporter": "python",
      "pygments_lexer": "ipython3",
      "version": "3.11.0"
    },
    "colab": {
      "provenance": []
    },
    "accelerator": "GPU",
    "gpuClass": "standard",
    "widgets": {
      "application/vnd.jupyter.widget-state+json": {
        "0ad9805b42c749ef957d0868a42bc3fc": {
          "model_module": "@jupyter-widgets/controls",
          "model_name": "HBoxModel",
          "model_module_version": "1.5.0",
          "state": {
            "_dom_classes": [],
            "_model_module": "@jupyter-widgets/controls",
            "_model_module_version": "1.5.0",
            "_model_name": "HBoxModel",
            "_view_count": null,
            "_view_module": "@jupyter-widgets/controls",
            "_view_module_version": "1.5.0",
            "_view_name": "HBoxView",
            "box_style": "",
            "children": [
              "IPY_MODEL_7301209375f74bf791cdc4427541c7eb",
              "IPY_MODEL_c6a981eaf1794398ad057e00de5aec28",
              "IPY_MODEL_b5e0c4eb6b14431a95466ceaa0b8f08e"
            ],
            "layout": "IPY_MODEL_2d63603f50b6444bad9d923c5c0b0caa"
          }
        },
        "7301209375f74bf791cdc4427541c7eb": {
          "model_module": "@jupyter-widgets/controls",
          "model_name": "HTMLModel",
          "model_module_version": "1.5.0",
          "state": {
            "_dom_classes": [],
            "_model_module": "@jupyter-widgets/controls",
            "_model_module_version": "1.5.0",
            "_model_name": "HTMLModel",
            "_view_count": null,
            "_view_module": "@jupyter-widgets/controls",
            "_view_module_version": "1.5.0",
            "_view_name": "HTMLView",
            "description": "",
            "description_tooltip": null,
            "layout": "IPY_MODEL_6e9eaa16fcd14220b7620d8c630c0ea3",
            "placeholder": "​",
            "style": "IPY_MODEL_a8ff5394fdd241908dbf789a3bf43e27",
            "value": "100%"
          }
        },
        "c6a981eaf1794398ad057e00de5aec28": {
          "model_module": "@jupyter-widgets/controls",
          "model_name": "FloatProgressModel",
          "model_module_version": "1.5.0",
          "state": {
            "_dom_classes": [],
            "_model_module": "@jupyter-widgets/controls",
            "_model_module_version": "1.5.0",
            "_model_name": "FloatProgressModel",
            "_view_count": null,
            "_view_module": "@jupyter-widgets/controls",
            "_view_module_version": "1.5.0",
            "_view_name": "ProgressView",
            "bar_style": "success",
            "description": "",
            "description_tooltip": null,
            "layout": "IPY_MODEL_7c0f62ce35c3436c959f6eb004cc04ce",
            "max": 78,
            "min": 0,
            "orientation": "horizontal",
            "style": "IPY_MODEL_e5325bb4857144fb9f3b0ad0dddce836",
            "value": 78
          }
        },
        "b5e0c4eb6b14431a95466ceaa0b8f08e": {
          "model_module": "@jupyter-widgets/controls",
          "model_name": "HTMLModel",
          "model_module_version": "1.5.0",
          "state": {
            "_dom_classes": [],
            "_model_module": "@jupyter-widgets/controls",
            "_model_module_version": "1.5.0",
            "_model_name": "HTMLModel",
            "_view_count": null,
            "_view_module": "@jupyter-widgets/controls",
            "_view_module_version": "1.5.0",
            "_view_name": "HTMLView",
            "description": "",
            "description_tooltip": null,
            "layout": "IPY_MODEL_3402619ed79a44e2966bdbb5e89a35b2",
            "placeholder": "​",
            "style": "IPY_MODEL_61448d08bc094384bfe678fe5cc771ab",
            "value": " 78/78 [00:00&lt;00:00, 112.81it/s]"
          }
        },
        "2d63603f50b6444bad9d923c5c0b0caa": {
          "model_module": "@jupyter-widgets/base",
          "model_name": "LayoutModel",
          "model_module_version": "1.2.0",
          "state": {
            "_model_module": "@jupyter-widgets/base",
            "_model_module_version": "1.2.0",
            "_model_name": "LayoutModel",
            "_view_count": null,
            "_view_module": "@jupyter-widgets/base",
            "_view_module_version": "1.2.0",
            "_view_name": "LayoutView",
            "align_content": null,
            "align_items": null,
            "align_self": null,
            "border": null,
            "bottom": null,
            "display": null,
            "flex": null,
            "flex_flow": null,
            "grid_area": null,
            "grid_auto_columns": null,
            "grid_auto_flow": null,
            "grid_auto_rows": null,
            "grid_column": null,
            "grid_gap": null,
            "grid_row": null,
            "grid_template_areas": null,
            "grid_template_columns": null,
            "grid_template_rows": null,
            "height": null,
            "justify_content": null,
            "justify_items": null,
            "left": null,
            "margin": null,
            "max_height": null,
            "max_width": null,
            "min_height": null,
            "min_width": null,
            "object_fit": null,
            "object_position": null,
            "order": null,
            "overflow": null,
            "overflow_x": null,
            "overflow_y": null,
            "padding": null,
            "right": null,
            "top": null,
            "visibility": null,
            "width": null
          }
        },
        "6e9eaa16fcd14220b7620d8c630c0ea3": {
          "model_module": "@jupyter-widgets/base",
          "model_name": "LayoutModel",
          "model_module_version": "1.2.0",
          "state": {
            "_model_module": "@jupyter-widgets/base",
            "_model_module_version": "1.2.0",
            "_model_name": "LayoutModel",
            "_view_count": null,
            "_view_module": "@jupyter-widgets/base",
            "_view_module_version": "1.2.0",
            "_view_name": "LayoutView",
            "align_content": null,
            "align_items": null,
            "align_self": null,
            "border": null,
            "bottom": null,
            "display": null,
            "flex": null,
            "flex_flow": null,
            "grid_area": null,
            "grid_auto_columns": null,
            "grid_auto_flow": null,
            "grid_auto_rows": null,
            "grid_column": null,
            "grid_gap": null,
            "grid_row": null,
            "grid_template_areas": null,
            "grid_template_columns": null,
            "grid_template_rows": null,
            "height": null,
            "justify_content": null,
            "justify_items": null,
            "left": null,
            "margin": null,
            "max_height": null,
            "max_width": null,
            "min_height": null,
            "min_width": null,
            "object_fit": null,
            "object_position": null,
            "order": null,
            "overflow": null,
            "overflow_x": null,
            "overflow_y": null,
            "padding": null,
            "right": null,
            "top": null,
            "visibility": null,
            "width": null
          }
        },
        "a8ff5394fdd241908dbf789a3bf43e27": {
          "model_module": "@jupyter-widgets/controls",
          "model_name": "DescriptionStyleModel",
          "model_module_version": "1.5.0",
          "state": {
            "_model_module": "@jupyter-widgets/controls",
            "_model_module_version": "1.5.0",
            "_model_name": "DescriptionStyleModel",
            "_view_count": null,
            "_view_module": "@jupyter-widgets/base",
            "_view_module_version": "1.2.0",
            "_view_name": "StyleView",
            "description_width": ""
          }
        },
        "7c0f62ce35c3436c959f6eb004cc04ce": {
          "model_module": "@jupyter-widgets/base",
          "model_name": "LayoutModel",
          "model_module_version": "1.2.0",
          "state": {
            "_model_module": "@jupyter-widgets/base",
            "_model_module_version": "1.2.0",
            "_model_name": "LayoutModel",
            "_view_count": null,
            "_view_module": "@jupyter-widgets/base",
            "_view_module_version": "1.2.0",
            "_view_name": "LayoutView",
            "align_content": null,
            "align_items": null,
            "align_self": null,
            "border": null,
            "bottom": null,
            "display": null,
            "flex": null,
            "flex_flow": null,
            "grid_area": null,
            "grid_auto_columns": null,
            "grid_auto_flow": null,
            "grid_auto_rows": null,
            "grid_column": null,
            "grid_gap": null,
            "grid_row": null,
            "grid_template_areas": null,
            "grid_template_columns": null,
            "grid_template_rows": null,
            "height": null,
            "justify_content": null,
            "justify_items": null,
            "left": null,
            "margin": null,
            "max_height": null,
            "max_width": null,
            "min_height": null,
            "min_width": null,
            "object_fit": null,
            "object_position": null,
            "order": null,
            "overflow": null,
            "overflow_x": null,
            "overflow_y": null,
            "padding": null,
            "right": null,
            "top": null,
            "visibility": null,
            "width": null
          }
        },
        "e5325bb4857144fb9f3b0ad0dddce836": {
          "model_module": "@jupyter-widgets/controls",
          "model_name": "ProgressStyleModel",
          "model_module_version": "1.5.0",
          "state": {
            "_model_module": "@jupyter-widgets/controls",
            "_model_module_version": "1.5.0",
            "_model_name": "ProgressStyleModel",
            "_view_count": null,
            "_view_module": "@jupyter-widgets/base",
            "_view_module_version": "1.2.0",
            "_view_name": "StyleView",
            "bar_color": null,
            "description_width": ""
          }
        },
        "3402619ed79a44e2966bdbb5e89a35b2": {
          "model_module": "@jupyter-widgets/base",
          "model_name": "LayoutModel",
          "model_module_version": "1.2.0",
          "state": {
            "_model_module": "@jupyter-widgets/base",
            "_model_module_version": "1.2.0",
            "_model_name": "LayoutModel",
            "_view_count": null,
            "_view_module": "@jupyter-widgets/base",
            "_view_module_version": "1.2.0",
            "_view_name": "LayoutView",
            "align_content": null,
            "align_items": null,
            "align_self": null,
            "border": null,
            "bottom": null,
            "display": null,
            "flex": null,
            "flex_flow": null,
            "grid_area": null,
            "grid_auto_columns": null,
            "grid_auto_flow": null,
            "grid_auto_rows": null,
            "grid_column": null,
            "grid_gap": null,
            "grid_row": null,
            "grid_template_areas": null,
            "grid_template_columns": null,
            "grid_template_rows": null,
            "height": null,
            "justify_content": null,
            "justify_items": null,
            "left": null,
            "margin": null,
            "max_height": null,
            "max_width": null,
            "min_height": null,
            "min_width": null,
            "object_fit": null,
            "object_position": null,
            "order": null,
            "overflow": null,
            "overflow_x": null,
            "overflow_y": null,
            "padding": null,
            "right": null,
            "top": null,
            "visibility": null,
            "width": null
          }
        },
        "61448d08bc094384bfe678fe5cc771ab": {
          "model_module": "@jupyter-widgets/controls",
          "model_name": "DescriptionStyleModel",
          "model_module_version": "1.5.0",
          "state": {
            "_model_module": "@jupyter-widgets/controls",
            "_model_module_version": "1.5.0",
            "_model_name": "DescriptionStyleModel",
            "_view_count": null,
            "_view_module": "@jupyter-widgets/base",
            "_view_module_version": "1.2.0",
            "_view_name": "StyleView",
            "description_width": ""
          }
        },
        "a96258ec336d4baba6aed21b7c875d00": {
          "model_module": "@jupyter-widgets/controls",
          "model_name": "HBoxModel",
          "model_module_version": "1.5.0",
          "state": {
            "_dom_classes": [],
            "_model_module": "@jupyter-widgets/controls",
            "_model_module_version": "1.5.0",
            "_model_name": "HBoxModel",
            "_view_count": null,
            "_view_module": "@jupyter-widgets/controls",
            "_view_module_version": "1.5.0",
            "_view_name": "HBoxView",
            "box_style": "",
            "children": [
              "IPY_MODEL_35c5981fa9034522bbd7dcced6764beb",
              "IPY_MODEL_725409c85b61470a85ddbe88c234b44c",
              "IPY_MODEL_532e21298d1b4febb02a2f3ec03631f4"
            ],
            "layout": "IPY_MODEL_7d9ead953765493794a5dfea6e80b927"
          }
        },
        "35c5981fa9034522bbd7dcced6764beb": {
          "model_module": "@jupyter-widgets/controls",
          "model_name": "HTMLModel",
          "model_module_version": "1.5.0",
          "state": {
            "_dom_classes": [],
            "_model_module": "@jupyter-widgets/controls",
            "_model_module_version": "1.5.0",
            "_model_name": "HTMLModel",
            "_view_count": null,
            "_view_module": "@jupyter-widgets/controls",
            "_view_module_version": "1.5.0",
            "_view_name": "HTMLView",
            "description": "",
            "description_tooltip": null,
            "layout": "IPY_MODEL_56ca7deebae9458589672013ae4bc379",
            "placeholder": "​",
            "style": "IPY_MODEL_cf0e4e5821474f91ab0714a3af126dc2",
            "value": "100%"
          }
        },
        "725409c85b61470a85ddbe88c234b44c": {
          "model_module": "@jupyter-widgets/controls",
          "model_name": "FloatProgressModel",
          "model_module_version": "1.5.0",
          "state": {
            "_dom_classes": [],
            "_model_module": "@jupyter-widgets/controls",
            "_model_module_version": "1.5.0",
            "_model_name": "FloatProgressModel",
            "_view_count": null,
            "_view_module": "@jupyter-widgets/controls",
            "_view_module_version": "1.5.0",
            "_view_name": "ProgressView",
            "bar_style": "success",
            "description": "",
            "description_tooltip": null,
            "layout": "IPY_MODEL_2eaa42bbef0240c99bc95e360596d64d",
            "max": 34,
            "min": 0,
            "orientation": "horizontal",
            "style": "IPY_MODEL_f16f52d10aa14c84ad2b3c9f43caaac0",
            "value": 34
          }
        },
        "532e21298d1b4febb02a2f3ec03631f4": {
          "model_module": "@jupyter-widgets/controls",
          "model_name": "HTMLModel",
          "model_module_version": "1.5.0",
          "state": {
            "_dom_classes": [],
            "_model_module": "@jupyter-widgets/controls",
            "_model_module_version": "1.5.0",
            "_model_name": "HTMLModel",
            "_view_count": null,
            "_view_module": "@jupyter-widgets/controls",
            "_view_module_version": "1.5.0",
            "_view_name": "HTMLView",
            "description": "",
            "description_tooltip": null,
            "layout": "IPY_MODEL_638ef75c43b84dcb9fd50c996c367715",
            "placeholder": "​",
            "style": "IPY_MODEL_435ca3c8c4d743099971e9df9a63ec70",
            "value": " 34/34 [00:00&lt;00:00, 557.71it/s]"
          }
        },
        "7d9ead953765493794a5dfea6e80b927": {
          "model_module": "@jupyter-widgets/base",
          "model_name": "LayoutModel",
          "model_module_version": "1.2.0",
          "state": {
            "_model_module": "@jupyter-widgets/base",
            "_model_module_version": "1.2.0",
            "_model_name": "LayoutModel",
            "_view_count": null,
            "_view_module": "@jupyter-widgets/base",
            "_view_module_version": "1.2.0",
            "_view_name": "LayoutView",
            "align_content": null,
            "align_items": null,
            "align_self": null,
            "border": null,
            "bottom": null,
            "display": null,
            "flex": null,
            "flex_flow": null,
            "grid_area": null,
            "grid_auto_columns": null,
            "grid_auto_flow": null,
            "grid_auto_rows": null,
            "grid_column": null,
            "grid_gap": null,
            "grid_row": null,
            "grid_template_areas": null,
            "grid_template_columns": null,
            "grid_template_rows": null,
            "height": null,
            "justify_content": null,
            "justify_items": null,
            "left": null,
            "margin": null,
            "max_height": null,
            "max_width": null,
            "min_height": null,
            "min_width": null,
            "object_fit": null,
            "object_position": null,
            "order": null,
            "overflow": null,
            "overflow_x": null,
            "overflow_y": null,
            "padding": null,
            "right": null,
            "top": null,
            "visibility": null,
            "width": null
          }
        },
        "56ca7deebae9458589672013ae4bc379": {
          "model_module": "@jupyter-widgets/base",
          "model_name": "LayoutModel",
          "model_module_version": "1.2.0",
          "state": {
            "_model_module": "@jupyter-widgets/base",
            "_model_module_version": "1.2.0",
            "_model_name": "LayoutModel",
            "_view_count": null,
            "_view_module": "@jupyter-widgets/base",
            "_view_module_version": "1.2.0",
            "_view_name": "LayoutView",
            "align_content": null,
            "align_items": null,
            "align_self": null,
            "border": null,
            "bottom": null,
            "display": null,
            "flex": null,
            "flex_flow": null,
            "grid_area": null,
            "grid_auto_columns": null,
            "grid_auto_flow": null,
            "grid_auto_rows": null,
            "grid_column": null,
            "grid_gap": null,
            "grid_row": null,
            "grid_template_areas": null,
            "grid_template_columns": null,
            "grid_template_rows": null,
            "height": null,
            "justify_content": null,
            "justify_items": null,
            "left": null,
            "margin": null,
            "max_height": null,
            "max_width": null,
            "min_height": null,
            "min_width": null,
            "object_fit": null,
            "object_position": null,
            "order": null,
            "overflow": null,
            "overflow_x": null,
            "overflow_y": null,
            "padding": null,
            "right": null,
            "top": null,
            "visibility": null,
            "width": null
          }
        },
        "cf0e4e5821474f91ab0714a3af126dc2": {
          "model_module": "@jupyter-widgets/controls",
          "model_name": "DescriptionStyleModel",
          "model_module_version": "1.5.0",
          "state": {
            "_model_module": "@jupyter-widgets/controls",
            "_model_module_version": "1.5.0",
            "_model_name": "DescriptionStyleModel",
            "_view_count": null,
            "_view_module": "@jupyter-widgets/base",
            "_view_module_version": "1.2.0",
            "_view_name": "StyleView",
            "description_width": ""
          }
        },
        "2eaa42bbef0240c99bc95e360596d64d": {
          "model_module": "@jupyter-widgets/base",
          "model_name": "LayoutModel",
          "model_module_version": "1.2.0",
          "state": {
            "_model_module": "@jupyter-widgets/base",
            "_model_module_version": "1.2.0",
            "_model_name": "LayoutModel",
            "_view_count": null,
            "_view_module": "@jupyter-widgets/base",
            "_view_module_version": "1.2.0",
            "_view_name": "LayoutView",
            "align_content": null,
            "align_items": null,
            "align_self": null,
            "border": null,
            "bottom": null,
            "display": null,
            "flex": null,
            "flex_flow": null,
            "grid_area": null,
            "grid_auto_columns": null,
            "grid_auto_flow": null,
            "grid_auto_rows": null,
            "grid_column": null,
            "grid_gap": null,
            "grid_row": null,
            "grid_template_areas": null,
            "grid_template_columns": null,
            "grid_template_rows": null,
            "height": null,
            "justify_content": null,
            "justify_items": null,
            "left": null,
            "margin": null,
            "max_height": null,
            "max_width": null,
            "min_height": null,
            "min_width": null,
            "object_fit": null,
            "object_position": null,
            "order": null,
            "overflow": null,
            "overflow_x": null,
            "overflow_y": null,
            "padding": null,
            "right": null,
            "top": null,
            "visibility": null,
            "width": null
          }
        },
        "f16f52d10aa14c84ad2b3c9f43caaac0": {
          "model_module": "@jupyter-widgets/controls",
          "model_name": "ProgressStyleModel",
          "model_module_version": "1.5.0",
          "state": {
            "_model_module": "@jupyter-widgets/controls",
            "_model_module_version": "1.5.0",
            "_model_name": "ProgressStyleModel",
            "_view_count": null,
            "_view_module": "@jupyter-widgets/base",
            "_view_module_version": "1.2.0",
            "_view_name": "StyleView",
            "bar_color": null,
            "description_width": ""
          }
        },
        "638ef75c43b84dcb9fd50c996c367715": {
          "model_module": "@jupyter-widgets/base",
          "model_name": "LayoutModel",
          "model_module_version": "1.2.0",
          "state": {
            "_model_module": "@jupyter-widgets/base",
            "_model_module_version": "1.2.0",
            "_model_name": "LayoutModel",
            "_view_count": null,
            "_view_module": "@jupyter-widgets/base",
            "_view_module_version": "1.2.0",
            "_view_name": "LayoutView",
            "align_content": null,
            "align_items": null,
            "align_self": null,
            "border": null,
            "bottom": null,
            "display": null,
            "flex": null,
            "flex_flow": null,
            "grid_area": null,
            "grid_auto_columns": null,
            "grid_auto_flow": null,
            "grid_auto_rows": null,
            "grid_column": null,
            "grid_gap": null,
            "grid_row": null,
            "grid_template_areas": null,
            "grid_template_columns": null,
            "grid_template_rows": null,
            "height": null,
            "justify_content": null,
            "justify_items": null,
            "left": null,
            "margin": null,
            "max_height": null,
            "max_width": null,
            "min_height": null,
            "min_width": null,
            "object_fit": null,
            "object_position": null,
            "order": null,
            "overflow": null,
            "overflow_x": null,
            "overflow_y": null,
            "padding": null,
            "right": null,
            "top": null,
            "visibility": null,
            "width": null
          }
        },
        "435ca3c8c4d743099971e9df9a63ec70": {
          "model_module": "@jupyter-widgets/controls",
          "model_name": "DescriptionStyleModel",
          "model_module_version": "1.5.0",
          "state": {
            "_model_module": "@jupyter-widgets/controls",
            "_model_module_version": "1.5.0",
            "_model_name": "DescriptionStyleModel",
            "_view_count": null,
            "_view_module": "@jupyter-widgets/base",
            "_view_module_version": "1.2.0",
            "_view_name": "StyleView",
            "description_width": ""
          }
        },
        "88f03c68c0454beeb8fc36045470ca0e": {
          "model_module": "@jupyter-widgets/controls",
          "model_name": "HBoxModel",
          "model_module_version": "1.5.0",
          "state": {
            "_dom_classes": [],
            "_model_module": "@jupyter-widgets/controls",
            "_model_module_version": "1.5.0",
            "_model_name": "HBoxModel",
            "_view_count": null,
            "_view_module": "@jupyter-widgets/controls",
            "_view_module_version": "1.5.0",
            "_view_name": "HBoxView",
            "box_style": "",
            "children": [
              "IPY_MODEL_3f27aeb4e1374fc3a84e4d0fbdf64f31",
              "IPY_MODEL_e3edca1dcf354c3fb28a38e701e34d3c",
              "IPY_MODEL_017bba92415a4b1a9e150981a79bdc7a"
            ],
            "layout": "IPY_MODEL_c790dcadb5f34dad88a0a3f36caa4df1"
          }
        },
        "3f27aeb4e1374fc3a84e4d0fbdf64f31": {
          "model_module": "@jupyter-widgets/controls",
          "model_name": "HTMLModel",
          "model_module_version": "1.5.0",
          "state": {
            "_dom_classes": [],
            "_model_module": "@jupyter-widgets/controls",
            "_model_module_version": "1.5.0",
            "_model_name": "HTMLModel",
            "_view_count": null,
            "_view_module": "@jupyter-widgets/controls",
            "_view_module_version": "1.5.0",
            "_view_name": "HTMLView",
            "description": "",
            "description_tooltip": null,
            "layout": "IPY_MODEL_6f80e6d87de44b01a89d7d4d6794bb95",
            "placeholder": "​",
            "style": "IPY_MODEL_e00e593ece2b4a4dad04f73b2fc329cf",
            "value": "Epoch: 100%"
          }
        },
        "e3edca1dcf354c3fb28a38e701e34d3c": {
          "model_module": "@jupyter-widgets/controls",
          "model_name": "FloatProgressModel",
          "model_module_version": "1.5.0",
          "state": {
            "_dom_classes": [],
            "_model_module": "@jupyter-widgets/controls",
            "_model_module_version": "1.5.0",
            "_model_name": "FloatProgressModel",
            "_view_count": null,
            "_view_module": "@jupyter-widgets/controls",
            "_view_module_version": "1.5.0",
            "_view_name": "ProgressView",
            "bar_style": "success",
            "description": "",
            "description_tooltip": null,
            "layout": "IPY_MODEL_27b7240cade34bfdb4e056175cbc89fd",
            "max": 3,
            "min": 0,
            "orientation": "horizontal",
            "style": "IPY_MODEL_55299324b577445c85aacd763dcc4855",
            "value": 3
          }
        },
        "017bba92415a4b1a9e150981a79bdc7a": {
          "model_module": "@jupyter-widgets/controls",
          "model_name": "HTMLModel",
          "model_module_version": "1.5.0",
          "state": {
            "_dom_classes": [],
            "_model_module": "@jupyter-widgets/controls",
            "_model_module_version": "1.5.0",
            "_model_name": "HTMLModel",
            "_view_count": null,
            "_view_module": "@jupyter-widgets/controls",
            "_view_module_version": "1.5.0",
            "_view_name": "HTMLView",
            "description": "",
            "description_tooltip": null,
            "layout": "IPY_MODEL_39289bb4c98f4507ac89fa99489de336",
            "placeholder": "​",
            "style": "IPY_MODEL_9a12010d621246f2ba82769e721e0807",
            "value": " 3/3 [35:30&lt;00:00, 710.69s/it]"
          }
        },
        "c790dcadb5f34dad88a0a3f36caa4df1": {
          "model_module": "@jupyter-widgets/base",
          "model_name": "LayoutModel",
          "model_module_version": "1.2.0",
          "state": {
            "_model_module": "@jupyter-widgets/base",
            "_model_module_version": "1.2.0",
            "_model_name": "LayoutModel",
            "_view_count": null,
            "_view_module": "@jupyter-widgets/base",
            "_view_module_version": "1.2.0",
            "_view_name": "LayoutView",
            "align_content": null,
            "align_items": null,
            "align_self": null,
            "border": null,
            "bottom": null,
            "display": null,
            "flex": null,
            "flex_flow": null,
            "grid_area": null,
            "grid_auto_columns": null,
            "grid_auto_flow": null,
            "grid_auto_rows": null,
            "grid_column": null,
            "grid_gap": null,
            "grid_row": null,
            "grid_template_areas": null,
            "grid_template_columns": null,
            "grid_template_rows": null,
            "height": null,
            "justify_content": null,
            "justify_items": null,
            "left": null,
            "margin": null,
            "max_height": null,
            "max_width": null,
            "min_height": null,
            "min_width": null,
            "object_fit": null,
            "object_position": null,
            "order": null,
            "overflow": null,
            "overflow_x": null,
            "overflow_y": null,
            "padding": null,
            "right": null,
            "top": null,
            "visibility": null,
            "width": null
          }
        },
        "6f80e6d87de44b01a89d7d4d6794bb95": {
          "model_module": "@jupyter-widgets/base",
          "model_name": "LayoutModel",
          "model_module_version": "1.2.0",
          "state": {
            "_model_module": "@jupyter-widgets/base",
            "_model_module_version": "1.2.0",
            "_model_name": "LayoutModel",
            "_view_count": null,
            "_view_module": "@jupyter-widgets/base",
            "_view_module_version": "1.2.0",
            "_view_name": "LayoutView",
            "align_content": null,
            "align_items": null,
            "align_self": null,
            "border": null,
            "bottom": null,
            "display": null,
            "flex": null,
            "flex_flow": null,
            "grid_area": null,
            "grid_auto_columns": null,
            "grid_auto_flow": null,
            "grid_auto_rows": null,
            "grid_column": null,
            "grid_gap": null,
            "grid_row": null,
            "grid_template_areas": null,
            "grid_template_columns": null,
            "grid_template_rows": null,
            "height": null,
            "justify_content": null,
            "justify_items": null,
            "left": null,
            "margin": null,
            "max_height": null,
            "max_width": null,
            "min_height": null,
            "min_width": null,
            "object_fit": null,
            "object_position": null,
            "order": null,
            "overflow": null,
            "overflow_x": null,
            "overflow_y": null,
            "padding": null,
            "right": null,
            "top": null,
            "visibility": null,
            "width": null
          }
        },
        "e00e593ece2b4a4dad04f73b2fc329cf": {
          "model_module": "@jupyter-widgets/controls",
          "model_name": "DescriptionStyleModel",
          "model_module_version": "1.5.0",
          "state": {
            "_model_module": "@jupyter-widgets/controls",
            "_model_module_version": "1.5.0",
            "_model_name": "DescriptionStyleModel",
            "_view_count": null,
            "_view_module": "@jupyter-widgets/base",
            "_view_module_version": "1.2.0",
            "_view_name": "StyleView",
            "description_width": ""
          }
        },
        "27b7240cade34bfdb4e056175cbc89fd": {
          "model_module": "@jupyter-widgets/base",
          "model_name": "LayoutModel",
          "model_module_version": "1.2.0",
          "state": {
            "_model_module": "@jupyter-widgets/base",
            "_model_module_version": "1.2.0",
            "_model_name": "LayoutModel",
            "_view_count": null,
            "_view_module": "@jupyter-widgets/base",
            "_view_module_version": "1.2.0",
            "_view_name": "LayoutView",
            "align_content": null,
            "align_items": null,
            "align_self": null,
            "border": null,
            "bottom": null,
            "display": null,
            "flex": null,
            "flex_flow": null,
            "grid_area": null,
            "grid_auto_columns": null,
            "grid_auto_flow": null,
            "grid_auto_rows": null,
            "grid_column": null,
            "grid_gap": null,
            "grid_row": null,
            "grid_template_areas": null,
            "grid_template_columns": null,
            "grid_template_rows": null,
            "height": null,
            "justify_content": null,
            "justify_items": null,
            "left": null,
            "margin": null,
            "max_height": null,
            "max_width": null,
            "min_height": null,
            "min_width": null,
            "object_fit": null,
            "object_position": null,
            "order": null,
            "overflow": null,
            "overflow_x": null,
            "overflow_y": null,
            "padding": null,
            "right": null,
            "top": null,
            "visibility": null,
            "width": null
          }
        },
        "55299324b577445c85aacd763dcc4855": {
          "model_module": "@jupyter-widgets/controls",
          "model_name": "ProgressStyleModel",
          "model_module_version": "1.5.0",
          "state": {
            "_model_module": "@jupyter-widgets/controls",
            "_model_module_version": "1.5.0",
            "_model_name": "ProgressStyleModel",
            "_view_count": null,
            "_view_module": "@jupyter-widgets/base",
            "_view_module_version": "1.2.0",
            "_view_name": "StyleView",
            "bar_color": null,
            "description_width": ""
          }
        },
        "39289bb4c98f4507ac89fa99489de336": {
          "model_module": "@jupyter-widgets/base",
          "model_name": "LayoutModel",
          "model_module_version": "1.2.0",
          "state": {
            "_model_module": "@jupyter-widgets/base",
            "_model_module_version": "1.2.0",
            "_model_name": "LayoutModel",
            "_view_count": null,
            "_view_module": "@jupyter-widgets/base",
            "_view_module_version": "1.2.0",
            "_view_name": "LayoutView",
            "align_content": null,
            "align_items": null,
            "align_self": null,
            "border": null,
            "bottom": null,
            "display": null,
            "flex": null,
            "flex_flow": null,
            "grid_area": null,
            "grid_auto_columns": null,
            "grid_auto_flow": null,
            "grid_auto_rows": null,
            "grid_column": null,
            "grid_gap": null,
            "grid_row": null,
            "grid_template_areas": null,
            "grid_template_columns": null,
            "grid_template_rows": null,
            "height": null,
            "justify_content": null,
            "justify_items": null,
            "left": null,
            "margin": null,
            "max_height": null,
            "max_width": null,
            "min_height": null,
            "min_width": null,
            "object_fit": null,
            "object_position": null,
            "order": null,
            "overflow": null,
            "overflow_x": null,
            "overflow_y": null,
            "padding": null,
            "right": null,
            "top": null,
            "visibility": null,
            "width": null
          }
        },
        "9a12010d621246f2ba82769e721e0807": {
          "model_module": "@jupyter-widgets/controls",
          "model_name": "DescriptionStyleModel",
          "model_module_version": "1.5.0",
          "state": {
            "_model_module": "@jupyter-widgets/controls",
            "_model_module_version": "1.5.0",
            "_model_name": "DescriptionStyleModel",
            "_view_count": null,
            "_view_module": "@jupyter-widgets/base",
            "_view_module_version": "1.2.0",
            "_view_name": "StyleView",
            "description_width": ""
          }
        },
        "c784566fee354fb5afe180c4f752bd35": {
          "model_module": "@jupyter-widgets/controls",
          "model_name": "HBoxModel",
          "model_module_version": "1.5.0",
          "state": {
            "_dom_classes": [],
            "_model_module": "@jupyter-widgets/controls",
            "_model_module_version": "1.5.0",
            "_model_name": "HBoxModel",
            "_view_count": null,
            "_view_module": "@jupyter-widgets/controls",
            "_view_module_version": "1.5.0",
            "_view_name": "HBoxView",
            "box_style": "",
            "children": [
              "IPY_MODEL_fa9a81b17d68471aa953d434bafa8963",
              "IPY_MODEL_5ac7da3486c5444393799216f5544757",
              "IPY_MODEL_b53667510faa4224a8d857ea3ee8fbdf"
            ],
            "layout": "IPY_MODEL_31b0fc853a354f2481298314a94f6762"
          }
        },
        "fa9a81b17d68471aa953d434bafa8963": {
          "model_module": "@jupyter-widgets/controls",
          "model_name": "HTMLModel",
          "model_module_version": "1.5.0",
          "state": {
            "_dom_classes": [],
            "_model_module": "@jupyter-widgets/controls",
            "_model_module_version": "1.5.0",
            "_model_name": "HTMLModel",
            "_view_count": null,
            "_view_module": "@jupyter-widgets/controls",
            "_view_module_version": "1.5.0",
            "_view_name": "HTMLView",
            "description": "",
            "description_tooltip": null,
            "layout": "IPY_MODEL_a0b631c8a5c4470287e5fa3a38b647a7",
            "placeholder": "​",
            "style": "IPY_MODEL_9f1b5be30b6146e1abc8540af049178e",
            "value": "Iteration: 100%"
          }
        },
        "5ac7da3486c5444393799216f5544757": {
          "model_module": "@jupyter-widgets/controls",
          "model_name": "FloatProgressModel",
          "model_module_version": "1.5.0",
          "state": {
            "_dom_classes": [],
            "_model_module": "@jupyter-widgets/controls",
            "_model_module_version": "1.5.0",
            "_model_name": "FloatProgressModel",
            "_view_count": null,
            "_view_module": "@jupyter-widgets/controls",
            "_view_module_version": "1.5.0",
            "_view_name": "ProgressView",
            "bar_style": "success",
            "description": "",
            "description_tooltip": null,
            "layout": "IPY_MODEL_f3829acf820b4c29ab3ebac255ac55ae",
            "max": 4983,
            "min": 0,
            "orientation": "horizontal",
            "style": "IPY_MODEL_294600d83d89480790efce5ad11e37ae",
            "value": 4983
          }
        },
        "b53667510faa4224a8d857ea3ee8fbdf": {
          "model_module": "@jupyter-widgets/controls",
          "model_name": "HTMLModel",
          "model_module_version": "1.5.0",
          "state": {
            "_dom_classes": [],
            "_model_module": "@jupyter-widgets/controls",
            "_model_module_version": "1.5.0",
            "_model_name": "HTMLModel",
            "_view_count": null,
            "_view_module": "@jupyter-widgets/controls",
            "_view_module_version": "1.5.0",
            "_view_name": "HTMLView",
            "description": "",
            "description_tooltip": null,
            "layout": "IPY_MODEL_1b2b1bf555c5407797b3db761b509e03",
            "placeholder": "​",
            "style": "IPY_MODEL_84cae1899b154c7bbe9dbacb64beedcd",
            "value": " 4983/4983 [11:46&lt;00:00,  6.85it/s]"
          }
        },
        "31b0fc853a354f2481298314a94f6762": {
          "model_module": "@jupyter-widgets/base",
          "model_name": "LayoutModel",
          "model_module_version": "1.2.0",
          "state": {
            "_model_module": "@jupyter-widgets/base",
            "_model_module_version": "1.2.0",
            "_model_name": "LayoutModel",
            "_view_count": null,
            "_view_module": "@jupyter-widgets/base",
            "_view_module_version": "1.2.0",
            "_view_name": "LayoutView",
            "align_content": null,
            "align_items": null,
            "align_self": null,
            "border": null,
            "bottom": null,
            "display": null,
            "flex": null,
            "flex_flow": null,
            "grid_area": null,
            "grid_auto_columns": null,
            "grid_auto_flow": null,
            "grid_auto_rows": null,
            "grid_column": null,
            "grid_gap": null,
            "grid_row": null,
            "grid_template_areas": null,
            "grid_template_columns": null,
            "grid_template_rows": null,
            "height": null,
            "justify_content": null,
            "justify_items": null,
            "left": null,
            "margin": null,
            "max_height": null,
            "max_width": null,
            "min_height": null,
            "min_width": null,
            "object_fit": null,
            "object_position": null,
            "order": null,
            "overflow": null,
            "overflow_x": null,
            "overflow_y": null,
            "padding": null,
            "right": null,
            "top": null,
            "visibility": null,
            "width": null
          }
        },
        "a0b631c8a5c4470287e5fa3a38b647a7": {
          "model_module": "@jupyter-widgets/base",
          "model_name": "LayoutModel",
          "model_module_version": "1.2.0",
          "state": {
            "_model_module": "@jupyter-widgets/base",
            "_model_module_version": "1.2.0",
            "_model_name": "LayoutModel",
            "_view_count": null,
            "_view_module": "@jupyter-widgets/base",
            "_view_module_version": "1.2.0",
            "_view_name": "LayoutView",
            "align_content": null,
            "align_items": null,
            "align_self": null,
            "border": null,
            "bottom": null,
            "display": null,
            "flex": null,
            "flex_flow": null,
            "grid_area": null,
            "grid_auto_columns": null,
            "grid_auto_flow": null,
            "grid_auto_rows": null,
            "grid_column": null,
            "grid_gap": null,
            "grid_row": null,
            "grid_template_areas": null,
            "grid_template_columns": null,
            "grid_template_rows": null,
            "height": null,
            "justify_content": null,
            "justify_items": null,
            "left": null,
            "margin": null,
            "max_height": null,
            "max_width": null,
            "min_height": null,
            "min_width": null,
            "object_fit": null,
            "object_position": null,
            "order": null,
            "overflow": null,
            "overflow_x": null,
            "overflow_y": null,
            "padding": null,
            "right": null,
            "top": null,
            "visibility": null,
            "width": null
          }
        },
        "9f1b5be30b6146e1abc8540af049178e": {
          "model_module": "@jupyter-widgets/controls",
          "model_name": "DescriptionStyleModel",
          "model_module_version": "1.5.0",
          "state": {
            "_model_module": "@jupyter-widgets/controls",
            "_model_module_version": "1.5.0",
            "_model_name": "DescriptionStyleModel",
            "_view_count": null,
            "_view_module": "@jupyter-widgets/base",
            "_view_module_version": "1.2.0",
            "_view_name": "StyleView",
            "description_width": ""
          }
        },
        "f3829acf820b4c29ab3ebac255ac55ae": {
          "model_module": "@jupyter-widgets/base",
          "model_name": "LayoutModel",
          "model_module_version": "1.2.0",
          "state": {
            "_model_module": "@jupyter-widgets/base",
            "_model_module_version": "1.2.0",
            "_model_name": "LayoutModel",
            "_view_count": null,
            "_view_module": "@jupyter-widgets/base",
            "_view_module_version": "1.2.0",
            "_view_name": "LayoutView",
            "align_content": null,
            "align_items": null,
            "align_self": null,
            "border": null,
            "bottom": null,
            "display": null,
            "flex": null,
            "flex_flow": null,
            "grid_area": null,
            "grid_auto_columns": null,
            "grid_auto_flow": null,
            "grid_auto_rows": null,
            "grid_column": null,
            "grid_gap": null,
            "grid_row": null,
            "grid_template_areas": null,
            "grid_template_columns": null,
            "grid_template_rows": null,
            "height": null,
            "justify_content": null,
            "justify_items": null,
            "left": null,
            "margin": null,
            "max_height": null,
            "max_width": null,
            "min_height": null,
            "min_width": null,
            "object_fit": null,
            "object_position": null,
            "order": null,
            "overflow": null,
            "overflow_x": null,
            "overflow_y": null,
            "padding": null,
            "right": null,
            "top": null,
            "visibility": null,
            "width": null
          }
        },
        "294600d83d89480790efce5ad11e37ae": {
          "model_module": "@jupyter-widgets/controls",
          "model_name": "ProgressStyleModel",
          "model_module_version": "1.5.0",
          "state": {
            "_model_module": "@jupyter-widgets/controls",
            "_model_module_version": "1.5.0",
            "_model_name": "ProgressStyleModel",
            "_view_count": null,
            "_view_module": "@jupyter-widgets/base",
            "_view_module_version": "1.2.0",
            "_view_name": "StyleView",
            "bar_color": null,
            "description_width": ""
          }
        },
        "1b2b1bf555c5407797b3db761b509e03": {
          "model_module": "@jupyter-widgets/base",
          "model_name": "LayoutModel",
          "model_module_version": "1.2.0",
          "state": {
            "_model_module": "@jupyter-widgets/base",
            "_model_module_version": "1.2.0",
            "_model_name": "LayoutModel",
            "_view_count": null,
            "_view_module": "@jupyter-widgets/base",
            "_view_module_version": "1.2.0",
            "_view_name": "LayoutView",
            "align_content": null,
            "align_items": null,
            "align_self": null,
            "border": null,
            "bottom": null,
            "display": null,
            "flex": null,
            "flex_flow": null,
            "grid_area": null,
            "grid_auto_columns": null,
            "grid_auto_flow": null,
            "grid_auto_rows": null,
            "grid_column": null,
            "grid_gap": null,
            "grid_row": null,
            "grid_template_areas": null,
            "grid_template_columns": null,
            "grid_template_rows": null,
            "height": null,
            "justify_content": null,
            "justify_items": null,
            "left": null,
            "margin": null,
            "max_height": null,
            "max_width": null,
            "min_height": null,
            "min_width": null,
            "object_fit": null,
            "object_position": null,
            "order": null,
            "overflow": null,
            "overflow_x": null,
            "overflow_y": null,
            "padding": null,
            "right": null,
            "top": null,
            "visibility": null,
            "width": null
          }
        },
        "84cae1899b154c7bbe9dbacb64beedcd": {
          "model_module": "@jupyter-widgets/controls",
          "model_name": "DescriptionStyleModel",
          "model_module_version": "1.5.0",
          "state": {
            "_model_module": "@jupyter-widgets/controls",
            "_model_module_version": "1.5.0",
            "_model_name": "DescriptionStyleModel",
            "_view_count": null,
            "_view_module": "@jupyter-widgets/base",
            "_view_module_version": "1.2.0",
            "_view_name": "StyleView",
            "description_width": ""
          }
        },
        "648675adc8a34978b09eb4f63075aaa0": {
          "model_module": "@jupyter-widgets/controls",
          "model_name": "HBoxModel",
          "model_module_version": "1.5.0",
          "state": {
            "_dom_classes": [],
            "_model_module": "@jupyter-widgets/controls",
            "_model_module_version": "1.5.0",
            "_model_name": "HBoxModel",
            "_view_count": null,
            "_view_module": "@jupyter-widgets/controls",
            "_view_module_version": "1.5.0",
            "_view_name": "HBoxView",
            "box_style": "",
            "children": [
              "IPY_MODEL_f8e68c7390974aef876489a8890bf2df",
              "IPY_MODEL_89e7f9eddec94a1299190287bf71c32f",
              "IPY_MODEL_09882488658046909d1cbe5e0f8c3ee7"
            ],
            "layout": "IPY_MODEL_f8c9422bf704452aaa6ef919232366ee"
          }
        },
        "f8e68c7390974aef876489a8890bf2df": {
          "model_module": "@jupyter-widgets/controls",
          "model_name": "HTMLModel",
          "model_module_version": "1.5.0",
          "state": {
            "_dom_classes": [],
            "_model_module": "@jupyter-widgets/controls",
            "_model_module_version": "1.5.0",
            "_model_name": "HTMLModel",
            "_view_count": null,
            "_view_module": "@jupyter-widgets/controls",
            "_view_module_version": "1.5.0",
            "_view_name": "HTMLView",
            "description": "",
            "description_tooltip": null,
            "layout": "IPY_MODEL_71124b09a1b245989a80f3527943845d",
            "placeholder": "​",
            "style": "IPY_MODEL_139ed94087754d11bf99e882d56f09ce",
            "value": "Iteration: 100%"
          }
        },
        "89e7f9eddec94a1299190287bf71c32f": {
          "model_module": "@jupyter-widgets/controls",
          "model_name": "FloatProgressModel",
          "model_module_version": "1.5.0",
          "state": {
            "_dom_classes": [],
            "_model_module": "@jupyter-widgets/controls",
            "_model_module_version": "1.5.0",
            "_model_name": "FloatProgressModel",
            "_view_count": null,
            "_view_module": "@jupyter-widgets/controls",
            "_view_module_version": "1.5.0",
            "_view_name": "ProgressView",
            "bar_style": "success",
            "description": "",
            "description_tooltip": null,
            "layout": "IPY_MODEL_2cb5a7e2b8034d6883b029d2f7b716e5",
            "max": 4983,
            "min": 0,
            "orientation": "horizontal",
            "style": "IPY_MODEL_7f1946af5a0e469f914a9d2e1b8d6e2c",
            "value": 4983
          }
        },
        "09882488658046909d1cbe5e0f8c3ee7": {
          "model_module": "@jupyter-widgets/controls",
          "model_name": "HTMLModel",
          "model_module_version": "1.5.0",
          "state": {
            "_dom_classes": [],
            "_model_module": "@jupyter-widgets/controls",
            "_model_module_version": "1.5.0",
            "_model_name": "HTMLModel",
            "_view_count": null,
            "_view_module": "@jupyter-widgets/controls",
            "_view_module_version": "1.5.0",
            "_view_name": "HTMLView",
            "description": "",
            "description_tooltip": null,
            "layout": "IPY_MODEL_44cd88e0e35a415ab14a59ca1acabce4",
            "placeholder": "​",
            "style": "IPY_MODEL_c9a550c3a6de46ae8c26b3ed80e5ad96",
            "value": " 4983/4983 [11:51&lt;00:00,  6.88it/s]"
          }
        },
        "f8c9422bf704452aaa6ef919232366ee": {
          "model_module": "@jupyter-widgets/base",
          "model_name": "LayoutModel",
          "model_module_version": "1.2.0",
          "state": {
            "_model_module": "@jupyter-widgets/base",
            "_model_module_version": "1.2.0",
            "_model_name": "LayoutModel",
            "_view_count": null,
            "_view_module": "@jupyter-widgets/base",
            "_view_module_version": "1.2.0",
            "_view_name": "LayoutView",
            "align_content": null,
            "align_items": null,
            "align_self": null,
            "border": null,
            "bottom": null,
            "display": null,
            "flex": null,
            "flex_flow": null,
            "grid_area": null,
            "grid_auto_columns": null,
            "grid_auto_flow": null,
            "grid_auto_rows": null,
            "grid_column": null,
            "grid_gap": null,
            "grid_row": null,
            "grid_template_areas": null,
            "grid_template_columns": null,
            "grid_template_rows": null,
            "height": null,
            "justify_content": null,
            "justify_items": null,
            "left": null,
            "margin": null,
            "max_height": null,
            "max_width": null,
            "min_height": null,
            "min_width": null,
            "object_fit": null,
            "object_position": null,
            "order": null,
            "overflow": null,
            "overflow_x": null,
            "overflow_y": null,
            "padding": null,
            "right": null,
            "top": null,
            "visibility": null,
            "width": null
          }
        },
        "71124b09a1b245989a80f3527943845d": {
          "model_module": "@jupyter-widgets/base",
          "model_name": "LayoutModel",
          "model_module_version": "1.2.0",
          "state": {
            "_model_module": "@jupyter-widgets/base",
            "_model_module_version": "1.2.0",
            "_model_name": "LayoutModel",
            "_view_count": null,
            "_view_module": "@jupyter-widgets/base",
            "_view_module_version": "1.2.0",
            "_view_name": "LayoutView",
            "align_content": null,
            "align_items": null,
            "align_self": null,
            "border": null,
            "bottom": null,
            "display": null,
            "flex": null,
            "flex_flow": null,
            "grid_area": null,
            "grid_auto_columns": null,
            "grid_auto_flow": null,
            "grid_auto_rows": null,
            "grid_column": null,
            "grid_gap": null,
            "grid_row": null,
            "grid_template_areas": null,
            "grid_template_columns": null,
            "grid_template_rows": null,
            "height": null,
            "justify_content": null,
            "justify_items": null,
            "left": null,
            "margin": null,
            "max_height": null,
            "max_width": null,
            "min_height": null,
            "min_width": null,
            "object_fit": null,
            "object_position": null,
            "order": null,
            "overflow": null,
            "overflow_x": null,
            "overflow_y": null,
            "padding": null,
            "right": null,
            "top": null,
            "visibility": null,
            "width": null
          }
        },
        "139ed94087754d11bf99e882d56f09ce": {
          "model_module": "@jupyter-widgets/controls",
          "model_name": "DescriptionStyleModel",
          "model_module_version": "1.5.0",
          "state": {
            "_model_module": "@jupyter-widgets/controls",
            "_model_module_version": "1.5.0",
            "_model_name": "DescriptionStyleModel",
            "_view_count": null,
            "_view_module": "@jupyter-widgets/base",
            "_view_module_version": "1.2.0",
            "_view_name": "StyleView",
            "description_width": ""
          }
        },
        "2cb5a7e2b8034d6883b029d2f7b716e5": {
          "model_module": "@jupyter-widgets/base",
          "model_name": "LayoutModel",
          "model_module_version": "1.2.0",
          "state": {
            "_model_module": "@jupyter-widgets/base",
            "_model_module_version": "1.2.0",
            "_model_name": "LayoutModel",
            "_view_count": null,
            "_view_module": "@jupyter-widgets/base",
            "_view_module_version": "1.2.0",
            "_view_name": "LayoutView",
            "align_content": null,
            "align_items": null,
            "align_self": null,
            "border": null,
            "bottom": null,
            "display": null,
            "flex": null,
            "flex_flow": null,
            "grid_area": null,
            "grid_auto_columns": null,
            "grid_auto_flow": null,
            "grid_auto_rows": null,
            "grid_column": null,
            "grid_gap": null,
            "grid_row": null,
            "grid_template_areas": null,
            "grid_template_columns": null,
            "grid_template_rows": null,
            "height": null,
            "justify_content": null,
            "justify_items": null,
            "left": null,
            "margin": null,
            "max_height": null,
            "max_width": null,
            "min_height": null,
            "min_width": null,
            "object_fit": null,
            "object_position": null,
            "order": null,
            "overflow": null,
            "overflow_x": null,
            "overflow_y": null,
            "padding": null,
            "right": null,
            "top": null,
            "visibility": null,
            "width": null
          }
        },
        "7f1946af5a0e469f914a9d2e1b8d6e2c": {
          "model_module": "@jupyter-widgets/controls",
          "model_name": "ProgressStyleModel",
          "model_module_version": "1.5.0",
          "state": {
            "_model_module": "@jupyter-widgets/controls",
            "_model_module_version": "1.5.0",
            "_model_name": "ProgressStyleModel",
            "_view_count": null,
            "_view_module": "@jupyter-widgets/base",
            "_view_module_version": "1.2.0",
            "_view_name": "StyleView",
            "bar_color": null,
            "description_width": ""
          }
        },
        "44cd88e0e35a415ab14a59ca1acabce4": {
          "model_module": "@jupyter-widgets/base",
          "model_name": "LayoutModel",
          "model_module_version": "1.2.0",
          "state": {
            "_model_module": "@jupyter-widgets/base",
            "_model_module_version": "1.2.0",
            "_model_name": "LayoutModel",
            "_view_count": null,
            "_view_module": "@jupyter-widgets/base",
            "_view_module_version": "1.2.0",
            "_view_name": "LayoutView",
            "align_content": null,
            "align_items": null,
            "align_self": null,
            "border": null,
            "bottom": null,
            "display": null,
            "flex": null,
            "flex_flow": null,
            "grid_area": null,
            "grid_auto_columns": null,
            "grid_auto_flow": null,
            "grid_auto_rows": null,
            "grid_column": null,
            "grid_gap": null,
            "grid_row": null,
            "grid_template_areas": null,
            "grid_template_columns": null,
            "grid_template_rows": null,
            "height": null,
            "justify_content": null,
            "justify_items": null,
            "left": null,
            "margin": null,
            "max_height": null,
            "max_width": null,
            "min_height": null,
            "min_width": null,
            "object_fit": null,
            "object_position": null,
            "order": null,
            "overflow": null,
            "overflow_x": null,
            "overflow_y": null,
            "padding": null,
            "right": null,
            "top": null,
            "visibility": null,
            "width": null
          }
        },
        "c9a550c3a6de46ae8c26b3ed80e5ad96": {
          "model_module": "@jupyter-widgets/controls",
          "model_name": "DescriptionStyleModel",
          "model_module_version": "1.5.0",
          "state": {
            "_model_module": "@jupyter-widgets/controls",
            "_model_module_version": "1.5.0",
            "_model_name": "DescriptionStyleModel",
            "_view_count": null,
            "_view_module": "@jupyter-widgets/base",
            "_view_module_version": "1.2.0",
            "_view_name": "StyleView",
            "description_width": ""
          }
        },
        "21736a8c4fb449b2964fc9ae6a83a8c0": {
          "model_module": "@jupyter-widgets/controls",
          "model_name": "HBoxModel",
          "model_module_version": "1.5.0",
          "state": {
            "_dom_classes": [],
            "_model_module": "@jupyter-widgets/controls",
            "_model_module_version": "1.5.0",
            "_model_name": "HBoxModel",
            "_view_count": null,
            "_view_module": "@jupyter-widgets/controls",
            "_view_module_version": "1.5.0",
            "_view_name": "HBoxView",
            "box_style": "",
            "children": [
              "IPY_MODEL_1055eb58d7af4663b4445d2c2a1a7f7c",
              "IPY_MODEL_03f10c3df6f240a486cb1e2de42ea37b",
              "IPY_MODEL_c6fcecad12ab4992a94f864f12a25992"
            ],
            "layout": "IPY_MODEL_2512da7d70224dd59b880ae4440948e4"
          }
        },
        "1055eb58d7af4663b4445d2c2a1a7f7c": {
          "model_module": "@jupyter-widgets/controls",
          "model_name": "HTMLModel",
          "model_module_version": "1.5.0",
          "state": {
            "_dom_classes": [],
            "_model_module": "@jupyter-widgets/controls",
            "_model_module_version": "1.5.0",
            "_model_name": "HTMLModel",
            "_view_count": null,
            "_view_module": "@jupyter-widgets/controls",
            "_view_module_version": "1.5.0",
            "_view_name": "HTMLView",
            "description": "",
            "description_tooltip": null,
            "layout": "IPY_MODEL_378dc48524bd4e06b87b9806aab6503e",
            "placeholder": "​",
            "style": "IPY_MODEL_3d34d35808124e2d8c455bd7edfb1fda",
            "value": "Iteration: 100%"
          }
        },
        "03f10c3df6f240a486cb1e2de42ea37b": {
          "model_module": "@jupyter-widgets/controls",
          "model_name": "FloatProgressModel",
          "model_module_version": "1.5.0",
          "state": {
            "_dom_classes": [],
            "_model_module": "@jupyter-widgets/controls",
            "_model_module_version": "1.5.0",
            "_model_name": "FloatProgressModel",
            "_view_count": null,
            "_view_module": "@jupyter-widgets/controls",
            "_view_module_version": "1.5.0",
            "_view_name": "ProgressView",
            "bar_style": "success",
            "description": "",
            "description_tooltip": null,
            "layout": "IPY_MODEL_a935a0e4a3854fe48a8192456bf35ddf",
            "max": 4983,
            "min": 0,
            "orientation": "horizontal",
            "style": "IPY_MODEL_37c6f69450a347f88e12d892f3254129",
            "value": 4983
          }
        },
        "c6fcecad12ab4992a94f864f12a25992": {
          "model_module": "@jupyter-widgets/controls",
          "model_name": "HTMLModel",
          "model_module_version": "1.5.0",
          "state": {
            "_dom_classes": [],
            "_model_module": "@jupyter-widgets/controls",
            "_model_module_version": "1.5.0",
            "_model_name": "HTMLModel",
            "_view_count": null,
            "_view_module": "@jupyter-widgets/controls",
            "_view_module_version": "1.5.0",
            "_view_name": "HTMLView",
            "description": "",
            "description_tooltip": null,
            "layout": "IPY_MODEL_ee899e15ffdb416baa88e29f8af6c50d",
            "placeholder": "​",
            "style": "IPY_MODEL_34fca5792a234b2aa3f435653dd843ec",
            "value": " 4983/4983 [11:52&lt;00:00,  7.36it/s]"
          }
        },
        "2512da7d70224dd59b880ae4440948e4": {
          "model_module": "@jupyter-widgets/base",
          "model_name": "LayoutModel",
          "model_module_version": "1.2.0",
          "state": {
            "_model_module": "@jupyter-widgets/base",
            "_model_module_version": "1.2.0",
            "_model_name": "LayoutModel",
            "_view_count": null,
            "_view_module": "@jupyter-widgets/base",
            "_view_module_version": "1.2.0",
            "_view_name": "LayoutView",
            "align_content": null,
            "align_items": null,
            "align_self": null,
            "border": null,
            "bottom": null,
            "display": null,
            "flex": null,
            "flex_flow": null,
            "grid_area": null,
            "grid_auto_columns": null,
            "grid_auto_flow": null,
            "grid_auto_rows": null,
            "grid_column": null,
            "grid_gap": null,
            "grid_row": null,
            "grid_template_areas": null,
            "grid_template_columns": null,
            "grid_template_rows": null,
            "height": null,
            "justify_content": null,
            "justify_items": null,
            "left": null,
            "margin": null,
            "max_height": null,
            "max_width": null,
            "min_height": null,
            "min_width": null,
            "object_fit": null,
            "object_position": null,
            "order": null,
            "overflow": null,
            "overflow_x": null,
            "overflow_y": null,
            "padding": null,
            "right": null,
            "top": null,
            "visibility": null,
            "width": null
          }
        },
        "378dc48524bd4e06b87b9806aab6503e": {
          "model_module": "@jupyter-widgets/base",
          "model_name": "LayoutModel",
          "model_module_version": "1.2.0",
          "state": {
            "_model_module": "@jupyter-widgets/base",
            "_model_module_version": "1.2.0",
            "_model_name": "LayoutModel",
            "_view_count": null,
            "_view_module": "@jupyter-widgets/base",
            "_view_module_version": "1.2.0",
            "_view_name": "LayoutView",
            "align_content": null,
            "align_items": null,
            "align_self": null,
            "border": null,
            "bottom": null,
            "display": null,
            "flex": null,
            "flex_flow": null,
            "grid_area": null,
            "grid_auto_columns": null,
            "grid_auto_flow": null,
            "grid_auto_rows": null,
            "grid_column": null,
            "grid_gap": null,
            "grid_row": null,
            "grid_template_areas": null,
            "grid_template_columns": null,
            "grid_template_rows": null,
            "height": null,
            "justify_content": null,
            "justify_items": null,
            "left": null,
            "margin": null,
            "max_height": null,
            "max_width": null,
            "min_height": null,
            "min_width": null,
            "object_fit": null,
            "object_position": null,
            "order": null,
            "overflow": null,
            "overflow_x": null,
            "overflow_y": null,
            "padding": null,
            "right": null,
            "top": null,
            "visibility": null,
            "width": null
          }
        },
        "3d34d35808124e2d8c455bd7edfb1fda": {
          "model_module": "@jupyter-widgets/controls",
          "model_name": "DescriptionStyleModel",
          "model_module_version": "1.5.0",
          "state": {
            "_model_module": "@jupyter-widgets/controls",
            "_model_module_version": "1.5.0",
            "_model_name": "DescriptionStyleModel",
            "_view_count": null,
            "_view_module": "@jupyter-widgets/base",
            "_view_module_version": "1.2.0",
            "_view_name": "StyleView",
            "description_width": ""
          }
        },
        "a935a0e4a3854fe48a8192456bf35ddf": {
          "model_module": "@jupyter-widgets/base",
          "model_name": "LayoutModel",
          "model_module_version": "1.2.0",
          "state": {
            "_model_module": "@jupyter-widgets/base",
            "_model_module_version": "1.2.0",
            "_model_name": "LayoutModel",
            "_view_count": null,
            "_view_module": "@jupyter-widgets/base",
            "_view_module_version": "1.2.0",
            "_view_name": "LayoutView",
            "align_content": null,
            "align_items": null,
            "align_self": null,
            "border": null,
            "bottom": null,
            "display": null,
            "flex": null,
            "flex_flow": null,
            "grid_area": null,
            "grid_auto_columns": null,
            "grid_auto_flow": null,
            "grid_auto_rows": null,
            "grid_column": null,
            "grid_gap": null,
            "grid_row": null,
            "grid_template_areas": null,
            "grid_template_columns": null,
            "grid_template_rows": null,
            "height": null,
            "justify_content": null,
            "justify_items": null,
            "left": null,
            "margin": null,
            "max_height": null,
            "max_width": null,
            "min_height": null,
            "min_width": null,
            "object_fit": null,
            "object_position": null,
            "order": null,
            "overflow": null,
            "overflow_x": null,
            "overflow_y": null,
            "padding": null,
            "right": null,
            "top": null,
            "visibility": null,
            "width": null
          }
        },
        "37c6f69450a347f88e12d892f3254129": {
          "model_module": "@jupyter-widgets/controls",
          "model_name": "ProgressStyleModel",
          "model_module_version": "1.5.0",
          "state": {
            "_model_module": "@jupyter-widgets/controls",
            "_model_module_version": "1.5.0",
            "_model_name": "ProgressStyleModel",
            "_view_count": null,
            "_view_module": "@jupyter-widgets/base",
            "_view_module_version": "1.2.0",
            "_view_name": "StyleView",
            "bar_color": null,
            "description_width": ""
          }
        },
        "ee899e15ffdb416baa88e29f8af6c50d": {
          "model_module": "@jupyter-widgets/base",
          "model_name": "LayoutModel",
          "model_module_version": "1.2.0",
          "state": {
            "_model_module": "@jupyter-widgets/base",
            "_model_module_version": "1.2.0",
            "_model_name": "LayoutModel",
            "_view_count": null,
            "_view_module": "@jupyter-widgets/base",
            "_view_module_version": "1.2.0",
            "_view_name": "LayoutView",
            "align_content": null,
            "align_items": null,
            "align_self": null,
            "border": null,
            "bottom": null,
            "display": null,
            "flex": null,
            "flex_flow": null,
            "grid_area": null,
            "grid_auto_columns": null,
            "grid_auto_flow": null,
            "grid_auto_rows": null,
            "grid_column": null,
            "grid_gap": null,
            "grid_row": null,
            "grid_template_areas": null,
            "grid_template_columns": null,
            "grid_template_rows": null,
            "height": null,
            "justify_content": null,
            "justify_items": null,
            "left": null,
            "margin": null,
            "max_height": null,
            "max_width": null,
            "min_height": null,
            "min_width": null,
            "object_fit": null,
            "object_position": null,
            "order": null,
            "overflow": null,
            "overflow_x": null,
            "overflow_y": null,
            "padding": null,
            "right": null,
            "top": null,
            "visibility": null,
            "width": null
          }
        },
        "34fca5792a234b2aa3f435653dd843ec": {
          "model_module": "@jupyter-widgets/controls",
          "model_name": "DescriptionStyleModel",
          "model_module_version": "1.5.0",
          "state": {
            "_model_module": "@jupyter-widgets/controls",
            "_model_module_version": "1.5.0",
            "_model_name": "DescriptionStyleModel",
            "_view_count": null,
            "_view_module": "@jupyter-widgets/base",
            "_view_module_version": "1.2.0",
            "_view_name": "StyleView",
            "description_width": ""
          }
        }
      }
    }
  },
  "nbformat": 4,
  "nbformat_minor": 0
}